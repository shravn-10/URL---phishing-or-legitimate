{
 "cells": [
  {
   "cell_type": "code",
   "execution_count": 15,
   "id": "6a5c37d5",
   "metadata": {},
   "outputs": [],
   "source": [
    "import pandas as pd \n",
    "import numpy as np\n",
    "import matplotlib.pyplot as plt\n",
    "import seaborn as sns "
   ]
  },
  {
   "cell_type": "markdown",
   "id": "df921b41",
   "metadata": {},
   "source": [
    "## import the datset"
   ]
  },
  {
   "cell_type": "code",
   "execution_count": 16,
   "id": "7e9e6c2e",
   "metadata": {},
   "outputs": [],
   "source": [
    "\n",
    "data = pd.read_csv(\"PhiUSIIL_Phishing_URL_Dataset.csv\", encoding='latin1')\n"
   ]
  },
  {
   "cell_type": "code",
   "execution_count": 17,
   "id": "5ceee141",
   "metadata": {},
   "outputs": [
    {
     "data": {
      "text/html": [
       "<div>\n",
       "<style scoped>\n",
       "    .dataframe tbody tr th:only-of-type {\n",
       "        vertical-align: middle;\n",
       "    }\n",
       "\n",
       "    .dataframe tbody tr th {\n",
       "        vertical-align: top;\n",
       "    }\n",
       "\n",
       "    .dataframe thead th {\n",
       "        text-align: right;\n",
       "    }\n",
       "</style>\n",
       "<table border=\"1\" class=\"dataframe\">\n",
       "  <thead>\n",
       "    <tr style=\"text-align: right;\">\n",
       "      <th></th>\n",
       "      <th>ÿFILENAME</th>\n",
       "      <th>URL</th>\n",
       "      <th>URLLength</th>\n",
       "      <th>Domain</th>\n",
       "      <th>DomainLength</th>\n",
       "      <th>IsDomainIP</th>\n",
       "      <th>TLD</th>\n",
       "      <th>URLSimilarityIndex</th>\n",
       "      <th>CharContinuationRate</th>\n",
       "      <th>TLDLegitimateProb</th>\n",
       "      <th>...</th>\n",
       "      <th>Pay</th>\n",
       "      <th>Crypto</th>\n",
       "      <th>HasCopyrightInfo</th>\n",
       "      <th>NoOfImage</th>\n",
       "      <th>NoOfCSS</th>\n",
       "      <th>NoOfJS</th>\n",
       "      <th>NoOfSelfRef</th>\n",
       "      <th>NoOfEmptyRef</th>\n",
       "      <th>NoOfExternalRef</th>\n",
       "      <th>label</th>\n",
       "    </tr>\n",
       "  </thead>\n",
       "  <tbody>\n",
       "    <tr>\n",
       "      <th>0</th>\n",
       "      <td>521848.txt</td>\n",
       "      <td>https://www.southbankmosaics.com</td>\n",
       "      <td>31</td>\n",
       "      <td>www.southbankmosaics.com</td>\n",
       "      <td>24</td>\n",
       "      <td>0</td>\n",
       "      <td>com</td>\n",
       "      <td>100.0</td>\n",
       "      <td>1.000000</td>\n",
       "      <td>0.522907</td>\n",
       "      <td>...</td>\n",
       "      <td>0</td>\n",
       "      <td>0</td>\n",
       "      <td>1</td>\n",
       "      <td>34</td>\n",
       "      <td>20</td>\n",
       "      <td>28</td>\n",
       "      <td>119</td>\n",
       "      <td>0</td>\n",
       "      <td>124</td>\n",
       "      <td>1</td>\n",
       "    </tr>\n",
       "    <tr>\n",
       "      <th>1</th>\n",
       "      <td>31372.txt</td>\n",
       "      <td>https://www.uni-mainz.de</td>\n",
       "      <td>23</td>\n",
       "      <td>www.uni-mainz.de</td>\n",
       "      <td>16</td>\n",
       "      <td>0</td>\n",
       "      <td>de</td>\n",
       "      <td>100.0</td>\n",
       "      <td>0.666667</td>\n",
       "      <td>0.032650</td>\n",
       "      <td>...</td>\n",
       "      <td>0</td>\n",
       "      <td>0</td>\n",
       "      <td>1</td>\n",
       "      <td>50</td>\n",
       "      <td>9</td>\n",
       "      <td>8</td>\n",
       "      <td>39</td>\n",
       "      <td>0</td>\n",
       "      <td>217</td>\n",
       "      <td>1</td>\n",
       "    </tr>\n",
       "    <tr>\n",
       "      <th>2</th>\n",
       "      <td>597387.txt</td>\n",
       "      <td>https://www.voicefmradio.co.uk</td>\n",
       "      <td>29</td>\n",
       "      <td>www.voicefmradio.co.uk</td>\n",
       "      <td>22</td>\n",
       "      <td>0</td>\n",
       "      <td>uk</td>\n",
       "      <td>100.0</td>\n",
       "      <td>0.866667</td>\n",
       "      <td>0.028555</td>\n",
       "      <td>...</td>\n",
       "      <td>0</td>\n",
       "      <td>0</td>\n",
       "      <td>1</td>\n",
       "      <td>10</td>\n",
       "      <td>2</td>\n",
       "      <td>7</td>\n",
       "      <td>42</td>\n",
       "      <td>2</td>\n",
       "      <td>5</td>\n",
       "      <td>1</td>\n",
       "    </tr>\n",
       "    <tr>\n",
       "      <th>3</th>\n",
       "      <td>554095.txt</td>\n",
       "      <td>https://www.sfnmjournal.com</td>\n",
       "      <td>26</td>\n",
       "      <td>www.sfnmjournal.com</td>\n",
       "      <td>19</td>\n",
       "      <td>0</td>\n",
       "      <td>com</td>\n",
       "      <td>100.0</td>\n",
       "      <td>1.000000</td>\n",
       "      <td>0.522907</td>\n",
       "      <td>...</td>\n",
       "      <td>1</td>\n",
       "      <td>1</td>\n",
       "      <td>1</td>\n",
       "      <td>3</td>\n",
       "      <td>27</td>\n",
       "      <td>15</td>\n",
       "      <td>22</td>\n",
       "      <td>1</td>\n",
       "      <td>31</td>\n",
       "      <td>1</td>\n",
       "    </tr>\n",
       "    <tr>\n",
       "      <th>4</th>\n",
       "      <td>151578.txt</td>\n",
       "      <td>https://www.rewildingargentina.org</td>\n",
       "      <td>33</td>\n",
       "      <td>www.rewildingargentina.org</td>\n",
       "      <td>26</td>\n",
       "      <td>0</td>\n",
       "      <td>org</td>\n",
       "      <td>100.0</td>\n",
       "      <td>1.000000</td>\n",
       "      <td>0.079963</td>\n",
       "      <td>...</td>\n",
       "      <td>1</td>\n",
       "      <td>0</td>\n",
       "      <td>1</td>\n",
       "      <td>244</td>\n",
       "      <td>15</td>\n",
       "      <td>34</td>\n",
       "      <td>72</td>\n",
       "      <td>1</td>\n",
       "      <td>85</td>\n",
       "      <td>1</td>\n",
       "    </tr>\n",
       "    <tr>\n",
       "      <th>5</th>\n",
       "      <td>23107.txt</td>\n",
       "      <td>https://www.globalreporting.org</td>\n",
       "      <td>30</td>\n",
       "      <td>www.globalreporting.org</td>\n",
       "      <td>23</td>\n",
       "      <td>0</td>\n",
       "      <td>org</td>\n",
       "      <td>100.0</td>\n",
       "      <td>1.000000</td>\n",
       "      <td>0.079963</td>\n",
       "      <td>...</td>\n",
       "      <td>0</td>\n",
       "      <td>0</td>\n",
       "      <td>1</td>\n",
       "      <td>35</td>\n",
       "      <td>1</td>\n",
       "      <td>11</td>\n",
       "      <td>86</td>\n",
       "      <td>0</td>\n",
       "      <td>14</td>\n",
       "      <td>1</td>\n",
       "    </tr>\n",
       "    <tr>\n",
       "      <th>6</th>\n",
       "      <td>23034.txt</td>\n",
       "      <td>https://www.saffronart.com</td>\n",
       "      <td>25</td>\n",
       "      <td>www.saffronart.com</td>\n",
       "      <td>18</td>\n",
       "      <td>0</td>\n",
       "      <td>com</td>\n",
       "      <td>100.0</td>\n",
       "      <td>1.000000</td>\n",
       "      <td>0.522907</td>\n",
       "      <td>...</td>\n",
       "      <td>0</td>\n",
       "      <td>0</td>\n",
       "      <td>1</td>\n",
       "      <td>32</td>\n",
       "      <td>4</td>\n",
       "      <td>14</td>\n",
       "      <td>44</td>\n",
       "      <td>2</td>\n",
       "      <td>17</td>\n",
       "      <td>1</td>\n",
       "    </tr>\n",
       "    <tr>\n",
       "      <th>7</th>\n",
       "      <td>696732.txt</td>\n",
       "      <td>https://www.nerdscandy.com</td>\n",
       "      <td>25</td>\n",
       "      <td>www.nerdscandy.com</td>\n",
       "      <td>18</td>\n",
       "      <td>0</td>\n",
       "      <td>com</td>\n",
       "      <td>100.0</td>\n",
       "      <td>1.000000</td>\n",
       "      <td>0.522907</td>\n",
       "      <td>...</td>\n",
       "      <td>0</td>\n",
       "      <td>0</td>\n",
       "      <td>1</td>\n",
       "      <td>24</td>\n",
       "      <td>2</td>\n",
       "      <td>22</td>\n",
       "      <td>36</td>\n",
       "      <td>0</td>\n",
       "      <td>15</td>\n",
       "      <td>1</td>\n",
       "    </tr>\n",
       "    <tr>\n",
       "      <th>8</th>\n",
       "      <td>739255.txt</td>\n",
       "      <td>https://www.hyderabadonline.in</td>\n",
       "      <td>29</td>\n",
       "      <td>www.hyderabadonline.in</td>\n",
       "      <td>22</td>\n",
       "      <td>0</td>\n",
       "      <td>in</td>\n",
       "      <td>100.0</td>\n",
       "      <td>1.000000</td>\n",
       "      <td>0.005084</td>\n",
       "      <td>...</td>\n",
       "      <td>0</td>\n",
       "      <td>0</td>\n",
       "      <td>1</td>\n",
       "      <td>71</td>\n",
       "      <td>4</td>\n",
       "      <td>9</td>\n",
       "      <td>40</td>\n",
       "      <td>1</td>\n",
       "      <td>317</td>\n",
       "      <td>1</td>\n",
       "    </tr>\n",
       "    <tr>\n",
       "      <th>9</th>\n",
       "      <td>14486.txt</td>\n",
       "      <td>https://www.aap.org</td>\n",
       "      <td>18</td>\n",
       "      <td>www.aap.org</td>\n",
       "      <td>11</td>\n",
       "      <td>0</td>\n",
       "      <td>org</td>\n",
       "      <td>100.0</td>\n",
       "      <td>1.000000</td>\n",
       "      <td>0.079963</td>\n",
       "      <td>...</td>\n",
       "      <td>0</td>\n",
       "      <td>0</td>\n",
       "      <td>1</td>\n",
       "      <td>10</td>\n",
       "      <td>1</td>\n",
       "      <td>12</td>\n",
       "      <td>173</td>\n",
       "      <td>6</td>\n",
       "      <td>65</td>\n",
       "      <td>1</td>\n",
       "    </tr>\n",
       "  </tbody>\n",
       "</table>\n",
       "<p>10 rows × 56 columns</p>\n",
       "</div>"
      ],
      "text/plain": [
       "    ÿFILENAME                                 URL  URLLength  \\\n",
       "0  521848.txt    https://www.southbankmosaics.com         31   \n",
       "1   31372.txt            https://www.uni-mainz.de         23   \n",
       "2  597387.txt      https://www.voicefmradio.co.uk         29   \n",
       "3  554095.txt         https://www.sfnmjournal.com         26   \n",
       "4  151578.txt  https://www.rewildingargentina.org         33   \n",
       "5   23107.txt     https://www.globalreporting.org         30   \n",
       "6   23034.txt          https://www.saffronart.com         25   \n",
       "7  696732.txt          https://www.nerdscandy.com         25   \n",
       "8  739255.txt      https://www.hyderabadonline.in         29   \n",
       "9   14486.txt                 https://www.aap.org         18   \n",
       "\n",
       "                       Domain  DomainLength  IsDomainIP  TLD  \\\n",
       "0    www.southbankmosaics.com            24           0  com   \n",
       "1            www.uni-mainz.de            16           0   de   \n",
       "2      www.voicefmradio.co.uk            22           0   uk   \n",
       "3         www.sfnmjournal.com            19           0  com   \n",
       "4  www.rewildingargentina.org            26           0  org   \n",
       "5     www.globalreporting.org            23           0  org   \n",
       "6          www.saffronart.com            18           0  com   \n",
       "7          www.nerdscandy.com            18           0  com   \n",
       "8      www.hyderabadonline.in            22           0   in   \n",
       "9                 www.aap.org            11           0  org   \n",
       "\n",
       "   URLSimilarityIndex  CharContinuationRate  TLDLegitimateProb  ...  Pay  \\\n",
       "0               100.0              1.000000           0.522907  ...    0   \n",
       "1               100.0              0.666667           0.032650  ...    0   \n",
       "2               100.0              0.866667           0.028555  ...    0   \n",
       "3               100.0              1.000000           0.522907  ...    1   \n",
       "4               100.0              1.000000           0.079963  ...    1   \n",
       "5               100.0              1.000000           0.079963  ...    0   \n",
       "6               100.0              1.000000           0.522907  ...    0   \n",
       "7               100.0              1.000000           0.522907  ...    0   \n",
       "8               100.0              1.000000           0.005084  ...    0   \n",
       "9               100.0              1.000000           0.079963  ...    0   \n",
       "\n",
       "   Crypto  HasCopyrightInfo  NoOfImage  NoOfCSS  NoOfJS  NoOfSelfRef  \\\n",
       "0       0                 1         34       20      28          119   \n",
       "1       0                 1         50        9       8           39   \n",
       "2       0                 1         10        2       7           42   \n",
       "3       1                 1          3       27      15           22   \n",
       "4       0                 1        244       15      34           72   \n",
       "5       0                 1         35        1      11           86   \n",
       "6       0                 1         32        4      14           44   \n",
       "7       0                 1         24        2      22           36   \n",
       "8       0                 1         71        4       9           40   \n",
       "9       0                 1         10        1      12          173   \n",
       "\n",
       "   NoOfEmptyRef  NoOfExternalRef  label  \n",
       "0             0              124      1  \n",
       "1             0              217      1  \n",
       "2             2                5      1  \n",
       "3             1               31      1  \n",
       "4             1               85      1  \n",
       "5             0               14      1  \n",
       "6             2               17      1  \n",
       "7             0               15      1  \n",
       "8             1              317      1  \n",
       "9             6               65      1  \n",
       "\n",
       "[10 rows x 56 columns]"
      ]
     },
     "execution_count": 17,
     "metadata": {},
     "output_type": "execute_result"
    }
   ],
   "source": [
    "data.head(10)"
   ]
  },
  {
   "cell_type": "code",
   "execution_count": 18,
   "id": "72d9e16e",
   "metadata": {},
   "outputs": [
    {
     "data": {
      "text/plain": [
       "(235795, 56)"
      ]
     },
     "execution_count": 18,
     "metadata": {},
     "output_type": "execute_result"
    }
   ],
   "source": [
    "data.shape"
   ]
  },
  {
   "cell_type": "markdown",
   "id": "af2063d6",
   "metadata": {},
   "source": [
    "## checking for null / missing values\n"
   ]
  },
  {
   "cell_type": "code",
   "execution_count": 19,
   "id": "70e09530",
   "metadata": {},
   "outputs": [
    {
     "data": {
      "text/plain": [
       "ÿFILENAME                     0\n",
       "URL                           0\n",
       "URLLength                     0\n",
       "Domain                        0\n",
       "DomainLength                  0\n",
       "IsDomainIP                    0\n",
       "TLD                           0\n",
       "URLSimilarityIndex            0\n",
       "CharContinuationRate          0\n",
       "TLDLegitimateProb             0\n",
       "URLCharProb                   0\n",
       "TLDLength                     0\n",
       "NoOfSubDomain                 0\n",
       "HasObfuscation                0\n",
       "NoOfObfuscatedChar            0\n",
       "ObfuscationRatio              0\n",
       "NoOfLettersInURL              0\n",
       "LetterRatioInURL              0\n",
       "NoOfDegitsInURL               0\n",
       "DegitRatioInURL               0\n",
       "NoOfEqualsInURL               0\n",
       "NoOfQMarkInURL                0\n",
       "NoOfAmpersandInURL            0\n",
       "NoOfOtherSpecialCharsInURL    0\n",
       "SpacialCharRatioInURL         0\n",
       "IsHTTPS                       0\n",
       "LineOfCode                    0\n",
       "LargestLineLength             0\n",
       "HasTitle                      0\n",
       "Title                         0\n",
       "DomainTitleMatchScore         0\n",
       "URLTitleMatchScore            0\n",
       "HasFavicon                    0\n",
       "Robots                        0\n",
       "IsResponsive                  0\n",
       "NoOfURLRedirect               0\n",
       "NoOfSelfRedirect              0\n",
       "HasDescription                0\n",
       "NoOfPopup                     0\n",
       "NoOfiFrame                    0\n",
       "HasExternalFormSubmit         0\n",
       "HasSocialNet                  0\n",
       "HasSubmitButton               0\n",
       "HasHiddenFields               0\n",
       "HasPasswordField              0\n",
       "Bank                          0\n",
       "Pay                           0\n",
       "Crypto                        0\n",
       "HasCopyrightInfo              0\n",
       "NoOfImage                     0\n",
       "NoOfCSS                       0\n",
       "NoOfJS                        0\n",
       "NoOfSelfRef                   0\n",
       "NoOfEmptyRef                  0\n",
       "NoOfExternalRef               0\n",
       "label                         0\n",
       "dtype: int64"
      ]
     },
     "execution_count": 19,
     "metadata": {},
     "output_type": "execute_result"
    }
   ],
   "source": [
    "data.isnull().sum()"
   ]
  },
  {
   "cell_type": "code",
   "execution_count": 20,
   "id": "0afeca17",
   "metadata": {
    "scrolled": true
   },
   "outputs": [
    {
     "name": "stdout",
     "output_type": "stream",
     "text": [
      "<class 'pandas.core.frame.DataFrame'>\n",
      "RangeIndex: 235795 entries, 0 to 235794\n",
      "Data columns (total 56 columns):\n",
      " #   Column                      Non-Null Count   Dtype  \n",
      "---  ------                      --------------   -----  \n",
      " 0   ÿFILENAME                   235795 non-null  object \n",
      " 1   URL                         235795 non-null  object \n",
      " 2   URLLength                   235795 non-null  int64  \n",
      " 3   Domain                      235795 non-null  object \n",
      " 4   DomainLength                235795 non-null  int64  \n",
      " 5   IsDomainIP                  235795 non-null  int64  \n",
      " 6   TLD                         235795 non-null  object \n",
      " 7   URLSimilarityIndex          235795 non-null  float64\n",
      " 8   CharContinuationRate        235795 non-null  float64\n",
      " 9   TLDLegitimateProb           235795 non-null  float64\n",
      " 10  URLCharProb                 235795 non-null  float64\n",
      " 11  TLDLength                   235795 non-null  int64  \n",
      " 12  NoOfSubDomain               235795 non-null  int64  \n",
      " 13  HasObfuscation              235795 non-null  int64  \n",
      " 14  NoOfObfuscatedChar          235795 non-null  int64  \n",
      " 15  ObfuscationRatio            235795 non-null  float64\n",
      " 16  NoOfLettersInURL            235795 non-null  int64  \n",
      " 17  LetterRatioInURL            235795 non-null  float64\n",
      " 18  NoOfDegitsInURL             235795 non-null  int64  \n",
      " 19  DegitRatioInURL             235795 non-null  float64\n",
      " 20  NoOfEqualsInURL             235795 non-null  int64  \n",
      " 21  NoOfQMarkInURL              235795 non-null  int64  \n",
      " 22  NoOfAmpersandInURL          235795 non-null  int64  \n",
      " 23  NoOfOtherSpecialCharsInURL  235795 non-null  int64  \n",
      " 24  SpacialCharRatioInURL       235795 non-null  float64\n",
      " 25  IsHTTPS                     235795 non-null  int64  \n",
      " 26  LineOfCode                  235795 non-null  int64  \n",
      " 27  LargestLineLength           235795 non-null  int64  \n",
      " 28  HasTitle                    235795 non-null  int64  \n",
      " 29  Title                       235795 non-null  object \n",
      " 30  DomainTitleMatchScore       235795 non-null  float64\n",
      " 31  URLTitleMatchScore          235795 non-null  float64\n",
      " 32  HasFavicon                  235795 non-null  int64  \n",
      " 33  Robots                      235795 non-null  int64  \n",
      " 34  IsResponsive                235795 non-null  int64  \n",
      " 35  NoOfURLRedirect             235795 non-null  int64  \n",
      " 36  NoOfSelfRedirect            235795 non-null  int64  \n",
      " 37  HasDescription              235795 non-null  int64  \n",
      " 38  NoOfPopup                   235795 non-null  int64  \n",
      " 39  NoOfiFrame                  235795 non-null  int64  \n",
      " 40  HasExternalFormSubmit       235795 non-null  int64  \n",
      " 41  HasSocialNet                235795 non-null  int64  \n",
      " 42  HasSubmitButton             235795 non-null  int64  \n",
      " 43  HasHiddenFields             235795 non-null  int64  \n",
      " 44  HasPasswordField            235795 non-null  int64  \n",
      " 45  Bank                        235795 non-null  int64  \n",
      " 46  Pay                         235795 non-null  int64  \n",
      " 47  Crypto                      235795 non-null  int64  \n",
      " 48  HasCopyrightInfo            235795 non-null  int64  \n",
      " 49  NoOfImage                   235795 non-null  int64  \n",
      " 50  NoOfCSS                     235795 non-null  int64  \n",
      " 51  NoOfJS                      235795 non-null  int64  \n",
      " 52  NoOfSelfRef                 235795 non-null  int64  \n",
      " 53  NoOfEmptyRef                235795 non-null  int64  \n",
      " 54  NoOfExternalRef             235795 non-null  int64  \n",
      " 55  label                       235795 non-null  int64  \n",
      "dtypes: float64(10), int64(41), object(5)\n",
      "memory usage: 100.7+ MB\n"
     ]
    }
   ],
   "source": [
    "data.info()"
   ]
  },
  {
   "cell_type": "markdown",
   "id": "c241c708",
   "metadata": {},
   "source": [
    "## removing unneccessary features"
   ]
  },
  {
   "cell_type": "code",
   "execution_count": 21,
   "id": "d5af6090",
   "metadata": {},
   "outputs": [],
   "source": [
    "data = data.drop('URLLength', axis=1)\n"
   ]
  },
  {
   "cell_type": "code",
   "execution_count": 22,
   "id": "eb5ef26a",
   "metadata": {},
   "outputs": [],
   "source": [
    "data = data.drop('DomainLength', axis=1)"
   ]
  },
  {
   "cell_type": "code",
   "execution_count": 23,
   "id": "27e98289",
   "metadata": {},
   "outputs": [],
   "source": [
    "data=data.drop(['IsDomainIP', 'TLDLength','NoOfSubDomain','HasObfuscation','NoOfObfuscatedChar','ObfuscationRatio','NoOfLettersInURL','LetterRatioInURL','NoOfDegitsInURL','DegitRatioInURL','NoOfEqualsInURL','NoOfQMarkInURL','NoOfAmpersandInURL','NoOfOtherSpecialCharsInURL','SpacialCharRatioInURL','NoOfURLRedirect','NoOfSelfRedirect','NoOfPopup','NoOfiFrame','HasExternalFormSubmit','NoOfImage','NoOfCSS','NoOfJS','NoOfSelfRef','NoOfEmptyRef','HasCopyrightInfo'], axis=1)"
   ]
  },
  {
   "cell_type": "code",
   "execution_count": 24,
   "id": "06a4388a",
   "metadata": {},
   "outputs": [
    {
     "name": "stdout",
     "output_type": "stream",
     "text": [
      "<class 'pandas.core.frame.DataFrame'>\n",
      "RangeIndex: 235795 entries, 0 to 235794\n",
      "Data columns (total 28 columns):\n",
      " #   Column                 Non-Null Count   Dtype  \n",
      "---  ------                 --------------   -----  \n",
      " 0   ÿFILENAME              235795 non-null  object \n",
      " 1   URL                    235795 non-null  object \n",
      " 2   Domain                 235795 non-null  object \n",
      " 3   TLD                    235795 non-null  object \n",
      " 4   URLSimilarityIndex     235795 non-null  float64\n",
      " 5   CharContinuationRate   235795 non-null  float64\n",
      " 6   TLDLegitimateProb      235795 non-null  float64\n",
      " 7   URLCharProb            235795 non-null  float64\n",
      " 8   IsHTTPS                235795 non-null  int64  \n",
      " 9   LineOfCode             235795 non-null  int64  \n",
      " 10  LargestLineLength      235795 non-null  int64  \n",
      " 11  HasTitle               235795 non-null  int64  \n",
      " 12  Title                  235795 non-null  object \n",
      " 13  DomainTitleMatchScore  235795 non-null  float64\n",
      " 14  URLTitleMatchScore     235795 non-null  float64\n",
      " 15  HasFavicon             235795 non-null  int64  \n",
      " 16  Robots                 235795 non-null  int64  \n",
      " 17  IsResponsive           235795 non-null  int64  \n",
      " 18  HasDescription         235795 non-null  int64  \n",
      " 19  HasSocialNet           235795 non-null  int64  \n",
      " 20  HasSubmitButton        235795 non-null  int64  \n",
      " 21  HasHiddenFields        235795 non-null  int64  \n",
      " 22  HasPasswordField       235795 non-null  int64  \n",
      " 23  Bank                   235795 non-null  int64  \n",
      " 24  Pay                    235795 non-null  int64  \n",
      " 25  Crypto                 235795 non-null  int64  \n",
      " 26  NoOfExternalRef        235795 non-null  int64  \n",
      " 27  label                  235795 non-null  int64  \n",
      "dtypes: float64(6), int64(17), object(5)\n",
      "memory usage: 50.4+ MB\n"
     ]
    }
   ],
   "source": [
    "data.info()\n"
   ]
  },
  {
   "cell_type": "code",
   "execution_count": 25,
   "id": "373e2e9a",
   "metadata": {},
   "outputs": [
    {
     "data": {
      "text/html": [
       "<div>\n",
       "<style scoped>\n",
       "    .dataframe tbody tr th:only-of-type {\n",
       "        vertical-align: middle;\n",
       "    }\n",
       "\n",
       "    .dataframe tbody tr th {\n",
       "        vertical-align: top;\n",
       "    }\n",
       "\n",
       "    .dataframe thead th {\n",
       "        text-align: right;\n",
       "    }\n",
       "</style>\n",
       "<table border=\"1\" class=\"dataframe\">\n",
       "  <thead>\n",
       "    <tr style=\"text-align: right;\">\n",
       "      <th></th>\n",
       "      <th>ÿFILENAME</th>\n",
       "      <th>URL</th>\n",
       "      <th>Domain</th>\n",
       "      <th>TLD</th>\n",
       "      <th>URLSimilarityIndex</th>\n",
       "      <th>CharContinuationRate</th>\n",
       "      <th>TLDLegitimateProb</th>\n",
       "      <th>URLCharProb</th>\n",
       "      <th>IsHTTPS</th>\n",
       "      <th>LineOfCode</th>\n",
       "      <th>...</th>\n",
       "      <th>HasDescription</th>\n",
       "      <th>HasSocialNet</th>\n",
       "      <th>HasSubmitButton</th>\n",
       "      <th>HasHiddenFields</th>\n",
       "      <th>HasPasswordField</th>\n",
       "      <th>Bank</th>\n",
       "      <th>Pay</th>\n",
       "      <th>Crypto</th>\n",
       "      <th>NoOfExternalRef</th>\n",
       "      <th>label</th>\n",
       "    </tr>\n",
       "  </thead>\n",
       "  <tbody>\n",
       "    <tr>\n",
       "      <th>0</th>\n",
       "      <td>521848.txt</td>\n",
       "      <td>https://www.southbankmosaics.com</td>\n",
       "      <td>www.southbankmosaics.com</td>\n",
       "      <td>com</td>\n",
       "      <td>100.0</td>\n",
       "      <td>1.000000</td>\n",
       "      <td>0.522907</td>\n",
       "      <td>0.061933</td>\n",
       "      <td>1</td>\n",
       "      <td>558</td>\n",
       "      <td>...</td>\n",
       "      <td>0</td>\n",
       "      <td>0</td>\n",
       "      <td>1</td>\n",
       "      <td>1</td>\n",
       "      <td>0</td>\n",
       "      <td>1</td>\n",
       "      <td>0</td>\n",
       "      <td>0</td>\n",
       "      <td>124</td>\n",
       "      <td>1</td>\n",
       "    </tr>\n",
       "    <tr>\n",
       "      <th>1</th>\n",
       "      <td>31372.txt</td>\n",
       "      <td>https://www.uni-mainz.de</td>\n",
       "      <td>www.uni-mainz.de</td>\n",
       "      <td>de</td>\n",
       "      <td>100.0</td>\n",
       "      <td>0.666667</td>\n",
       "      <td>0.032650</td>\n",
       "      <td>0.050207</td>\n",
       "      <td>1</td>\n",
       "      <td>618</td>\n",
       "      <td>...</td>\n",
       "      <td>0</td>\n",
       "      <td>1</td>\n",
       "      <td>1</td>\n",
       "      <td>0</td>\n",
       "      <td>0</td>\n",
       "      <td>0</td>\n",
       "      <td>0</td>\n",
       "      <td>0</td>\n",
       "      <td>217</td>\n",
       "      <td>1</td>\n",
       "    </tr>\n",
       "    <tr>\n",
       "      <th>2</th>\n",
       "      <td>597387.txt</td>\n",
       "      <td>https://www.voicefmradio.co.uk</td>\n",
       "      <td>www.voicefmradio.co.uk</td>\n",
       "      <td>uk</td>\n",
       "      <td>100.0</td>\n",
       "      <td>0.866667</td>\n",
       "      <td>0.028555</td>\n",
       "      <td>0.064129</td>\n",
       "      <td>1</td>\n",
       "      <td>467</td>\n",
       "      <td>...</td>\n",
       "      <td>1</td>\n",
       "      <td>0</td>\n",
       "      <td>1</td>\n",
       "      <td>1</td>\n",
       "      <td>0</td>\n",
       "      <td>0</td>\n",
       "      <td>0</td>\n",
       "      <td>0</td>\n",
       "      <td>5</td>\n",
       "      <td>1</td>\n",
       "    </tr>\n",
       "    <tr>\n",
       "      <th>3</th>\n",
       "      <td>554095.txt</td>\n",
       "      <td>https://www.sfnmjournal.com</td>\n",
       "      <td>www.sfnmjournal.com</td>\n",
       "      <td>com</td>\n",
       "      <td>100.0</td>\n",
       "      <td>1.000000</td>\n",
       "      <td>0.522907</td>\n",
       "      <td>0.057606</td>\n",
       "      <td>1</td>\n",
       "      <td>6356</td>\n",
       "      <td>...</td>\n",
       "      <td>0</td>\n",
       "      <td>1</td>\n",
       "      <td>1</td>\n",
       "      <td>1</td>\n",
       "      <td>0</td>\n",
       "      <td>0</td>\n",
       "      <td>1</td>\n",
       "      <td>1</td>\n",
       "      <td>31</td>\n",
       "      <td>1</td>\n",
       "    </tr>\n",
       "    <tr>\n",
       "      <th>4</th>\n",
       "      <td>151578.txt</td>\n",
       "      <td>https://www.rewildingargentina.org</td>\n",
       "      <td>www.rewildingargentina.org</td>\n",
       "      <td>org</td>\n",
       "      <td>100.0</td>\n",
       "      <td>1.000000</td>\n",
       "      <td>0.079963</td>\n",
       "      <td>0.059441</td>\n",
       "      <td>1</td>\n",
       "      <td>6089</td>\n",
       "      <td>...</td>\n",
       "      <td>1</td>\n",
       "      <td>1</td>\n",
       "      <td>1</td>\n",
       "      <td>1</td>\n",
       "      <td>0</td>\n",
       "      <td>1</td>\n",
       "      <td>1</td>\n",
       "      <td>0</td>\n",
       "      <td>85</td>\n",
       "      <td>1</td>\n",
       "    </tr>\n",
       "    <tr>\n",
       "      <th>5</th>\n",
       "      <td>23107.txt</td>\n",
       "      <td>https://www.globalreporting.org</td>\n",
       "      <td>www.globalreporting.org</td>\n",
       "      <td>org</td>\n",
       "      <td>100.0</td>\n",
       "      <td>1.000000</td>\n",
       "      <td>0.079963</td>\n",
       "      <td>0.060614</td>\n",
       "      <td>1</td>\n",
       "      <td>1210</td>\n",
       "      <td>...</td>\n",
       "      <td>1</td>\n",
       "      <td>1</td>\n",
       "      <td>0</td>\n",
       "      <td>1</td>\n",
       "      <td>0</td>\n",
       "      <td>0</td>\n",
       "      <td>0</td>\n",
       "      <td>0</td>\n",
       "      <td>14</td>\n",
       "      <td>1</td>\n",
       "    </tr>\n",
       "    <tr>\n",
       "      <th>6</th>\n",
       "      <td>23034.txt</td>\n",
       "      <td>https://www.saffronart.com</td>\n",
       "      <td>www.saffronart.com</td>\n",
       "      <td>com</td>\n",
       "      <td>100.0</td>\n",
       "      <td>1.000000</td>\n",
       "      <td>0.522907</td>\n",
       "      <td>0.063549</td>\n",
       "      <td>1</td>\n",
       "      <td>1024</td>\n",
       "      <td>...</td>\n",
       "      <td>0</td>\n",
       "      <td>1</td>\n",
       "      <td>0</td>\n",
       "      <td>1</td>\n",
       "      <td>0</td>\n",
       "      <td>0</td>\n",
       "      <td>0</td>\n",
       "      <td>0</td>\n",
       "      <td>17</td>\n",
       "      <td>1</td>\n",
       "    </tr>\n",
       "    <tr>\n",
       "      <th>7</th>\n",
       "      <td>696732.txt</td>\n",
       "      <td>https://www.nerdscandy.com</td>\n",
       "      <td>www.nerdscandy.com</td>\n",
       "      <td>com</td>\n",
       "      <td>100.0</td>\n",
       "      <td>1.000000</td>\n",
       "      <td>0.522907</td>\n",
       "      <td>0.060486</td>\n",
       "      <td>1</td>\n",
       "      <td>514</td>\n",
       "      <td>...</td>\n",
       "      <td>1</td>\n",
       "      <td>1</td>\n",
       "      <td>1</td>\n",
       "      <td>0</td>\n",
       "      <td>0</td>\n",
       "      <td>0</td>\n",
       "      <td>0</td>\n",
       "      <td>0</td>\n",
       "      <td>15</td>\n",
       "      <td>1</td>\n",
       "    </tr>\n",
       "    <tr>\n",
       "      <th>8</th>\n",
       "      <td>739255.txt</td>\n",
       "      <td>https://www.hyderabadonline.in</td>\n",
       "      <td>www.hyderabadonline.in</td>\n",
       "      <td>in</td>\n",
       "      <td>100.0</td>\n",
       "      <td>1.000000</td>\n",
       "      <td>0.005084</td>\n",
       "      <td>0.056980</td>\n",
       "      <td>1</td>\n",
       "      <td>2371</td>\n",
       "      <td>...</td>\n",
       "      <td>1</td>\n",
       "      <td>1</td>\n",
       "      <td>1</td>\n",
       "      <td>1</td>\n",
       "      <td>1</td>\n",
       "      <td>0</td>\n",
       "      <td>0</td>\n",
       "      <td>0</td>\n",
       "      <td>317</td>\n",
       "      <td>1</td>\n",
       "    </tr>\n",
       "    <tr>\n",
       "      <th>9</th>\n",
       "      <td>14486.txt</td>\n",
       "      <td>https://www.aap.org</td>\n",
       "      <td>www.aap.org</td>\n",
       "      <td>org</td>\n",
       "      <td>100.0</td>\n",
       "      <td>1.000000</td>\n",
       "      <td>0.079963</td>\n",
       "      <td>0.070497</td>\n",
       "      <td>1</td>\n",
       "      <td>2730</td>\n",
       "      <td>...</td>\n",
       "      <td>1</td>\n",
       "      <td>1</td>\n",
       "      <td>0</td>\n",
       "      <td>0</td>\n",
       "      <td>0</td>\n",
       "      <td>0</td>\n",
       "      <td>0</td>\n",
       "      <td>0</td>\n",
       "      <td>65</td>\n",
       "      <td>1</td>\n",
       "    </tr>\n",
       "  </tbody>\n",
       "</table>\n",
       "<p>10 rows × 28 columns</p>\n",
       "</div>"
      ],
      "text/plain": [
       "    ÿFILENAME                                 URL                      Domain  \\\n",
       "0  521848.txt    https://www.southbankmosaics.com    www.southbankmosaics.com   \n",
       "1   31372.txt            https://www.uni-mainz.de            www.uni-mainz.de   \n",
       "2  597387.txt      https://www.voicefmradio.co.uk      www.voicefmradio.co.uk   \n",
       "3  554095.txt         https://www.sfnmjournal.com         www.sfnmjournal.com   \n",
       "4  151578.txt  https://www.rewildingargentina.org  www.rewildingargentina.org   \n",
       "5   23107.txt     https://www.globalreporting.org     www.globalreporting.org   \n",
       "6   23034.txt          https://www.saffronart.com          www.saffronart.com   \n",
       "7  696732.txt          https://www.nerdscandy.com          www.nerdscandy.com   \n",
       "8  739255.txt      https://www.hyderabadonline.in      www.hyderabadonline.in   \n",
       "9   14486.txt                 https://www.aap.org                 www.aap.org   \n",
       "\n",
       "   TLD  URLSimilarityIndex  CharContinuationRate  TLDLegitimateProb  \\\n",
       "0  com               100.0              1.000000           0.522907   \n",
       "1   de               100.0              0.666667           0.032650   \n",
       "2   uk               100.0              0.866667           0.028555   \n",
       "3  com               100.0              1.000000           0.522907   \n",
       "4  org               100.0              1.000000           0.079963   \n",
       "5  org               100.0              1.000000           0.079963   \n",
       "6  com               100.0              1.000000           0.522907   \n",
       "7  com               100.0              1.000000           0.522907   \n",
       "8   in               100.0              1.000000           0.005084   \n",
       "9  org               100.0              1.000000           0.079963   \n",
       "\n",
       "   URLCharProb  IsHTTPS  LineOfCode  ...  HasDescription  HasSocialNet  \\\n",
       "0     0.061933        1         558  ...               0             0   \n",
       "1     0.050207        1         618  ...               0             1   \n",
       "2     0.064129        1         467  ...               1             0   \n",
       "3     0.057606        1        6356  ...               0             1   \n",
       "4     0.059441        1        6089  ...               1             1   \n",
       "5     0.060614        1        1210  ...               1             1   \n",
       "6     0.063549        1        1024  ...               0             1   \n",
       "7     0.060486        1         514  ...               1             1   \n",
       "8     0.056980        1        2371  ...               1             1   \n",
       "9     0.070497        1        2730  ...               1             1   \n",
       "\n",
       "  HasSubmitButton  HasHiddenFields  HasPasswordField  Bank  Pay  Crypto  \\\n",
       "0               1                1                 0     1    0       0   \n",
       "1               1                0                 0     0    0       0   \n",
       "2               1                1                 0     0    0       0   \n",
       "3               1                1                 0     0    1       1   \n",
       "4               1                1                 0     1    1       0   \n",
       "5               0                1                 0     0    0       0   \n",
       "6               0                1                 0     0    0       0   \n",
       "7               1                0                 0     0    0       0   \n",
       "8               1                1                 1     0    0       0   \n",
       "9               0                0                 0     0    0       0   \n",
       "\n",
       "   NoOfExternalRef  label  \n",
       "0              124      1  \n",
       "1              217      1  \n",
       "2                5      1  \n",
       "3               31      1  \n",
       "4               85      1  \n",
       "5               14      1  \n",
       "6               17      1  \n",
       "7               15      1  \n",
       "8              317      1  \n",
       "9               65      1  \n",
       "\n",
       "[10 rows x 28 columns]"
      ]
     },
     "execution_count": 25,
     "metadata": {},
     "output_type": "execute_result"
    }
   ],
   "source": [
    "data.head(10)"
   ]
  },
  {
   "cell_type": "markdown",
   "id": "40e4ae08",
   "metadata": {},
   "source": [
    "## Checking for outliers and treating them"
   ]
  },
  {
   "cell_type": "code",
   "execution_count": 26,
   "id": "95ce59ef",
   "metadata": {},
   "outputs": [
    {
     "data": {
      "image/png": "[encoded data removed]",
      "text/plain": [
       "<Figure size 1000x600 with 1 Axes>"
      ]
     },
     "metadata": {},
     "output_type": "display_data"
    },
    {
     "data": {
      "image/png": "[encoded data removed]",
      "text/plain": [
       "<Figure size 1000x600 with 1 Axes>"
      ]
     },
     "metadata": {},
     "output_type": "display_data"
    },
    {
     "data": {
      "image/png": "[encoded data removed]",
      "text/plain": [
       "<Figure size 1000x600 with 1 Axes>"
      ]
     },
     "metadata": {},
     "output_type": "display_data"
    },
    {
     "data": {
      "image/png": "[encoded data removed]",
      "text/plain": [
       "<Figure size 1000x600 with 1 Axes>"
      ]
     },
     "metadata": {},
     "output_type": "display_data"
    },
    {
     "data": {
      "image/png": "[encoded data removed]",
      "text/plain": [
       "<Figure size 1000x600 with 1 Axes>"
      ]
     },
     "metadata": {},
     "output_type": "display_data"
    },
    {
     "data": {
      "image/png": "[encoded data removed]",
      "text/plain": [
       "<Figure size 1000x600 with 1 Axes>"
      ]
     },
     "metadata": {},
     "output_type": "display_data"
    },
    {
     "data": {
      "image/png": "[encoded data removed]",
      "text/plain": [
       "<Figure size 1000x600 with 1 Axes>"
      ]
     },
     "metadata": {},
     "output_type": "display_data"
    },
    {
     "data": {
      "image/png": "[encoded data removed]",
      "text/plain": [
       "<Figure size 1000x600 with 1 Axes>"
      ]
     },
     "metadata": {},
     "output_type": "display_data"
    },
    {
     "data": {
      "image/png": "[encoded data removed]",
      "text/plain": [
       "<Figure size 1000x600 with 1 Axes>"
      ]
     },
     "metadata": {},
     "output_type": "display_data"
    },
    {
     "data": {
      "image/png": "[encoded data removed]",
      "text/plain": [
       "<Figure size 1000x600 with 1 Axes>"
      ]
     },
     "metadata": {},
     "output_type": "display_data"
    },
    {
     "data": {
      "image/png": "[encoded data removed]",
      "text/plain": [
       "<Figure size 1000x600 with 1 Axes>"
      ]
     },
     "metadata": {},
     "output_type": "display_data"
    },
    {
     "data": {
      "image/png": "[encoded data removed]",
      "text/plain": [
       "<Figure size 1000x600 with 1 Axes>"
      ]
     },
     "metadata": {},
     "output_type": "display_data"
    },
    {
     "data": {
      "image/png": "[encoded data removed]",
      "text/plain": [
       "<Figure size 1000x600 with 1 Axes>"
      ]
     },
     "metadata": {},
     "output_type": "display_data"
    },
    {
     "data": {
      "image/png": "[encoded data removed]",
      "text/plain": [
       "<Figure size 1000x600 with 1 Axes>"
      ]
     },
     "metadata": {},
     "output_type": "display_data"
    },
    {
     "data": {
      "image/png": "[encoded data removed]",
      "text/plain": [
       "<Figure size 1000x600 with 1 Axes>"
      ]
     },
     "metadata": {},
     "output_type": "display_data"
    },
    {
     "data": {
      "image/png": "[encoded data removed]",
      "text/plain": [
       "<Figure size 1000x600 with 1 Axes>"
      ]
     },
     "metadata": {},
     "output_type": "display_data"
    },
    {
     "data": {
      "image/png": "[encoded data removed]",
      "text/plain": [
       "<Figure size 1000x600 with 1 Axes>"
      ]
     },
     "metadata": {},
     "output_type": "display_data"
    },
    {
     "data": {
      "image/png": "[encoded data removed]",
      "text/plain": [
       "<Figure size 1000x600 with 1 Axes>"
      ]
     },
     "metadata": {},
     "output_type": "display_data"
    },
    {
     "data": {
      "image/png": "[encoded data removed]",
      "text/plain": [
       "<Figure size 1000x600 with 1 Axes>"
      ]
     },
     "metadata": {},
     "output_type": "display_data"
    },
    {
     "data": {
      "image/png": "[encoded data removed]",
      "text/plain": [
       "<Figure size 1000x600 with 1 Axes>"
      ]
     },
     "metadata": {},
     "output_type": "display_data"
    },
    {
     "data": {
      "image/png": "[encoded data removed]",
      "text/plain": [
       "<Figure size 1000x600 with 1 Axes>"
      ]
     },
     "metadata": {},
     "output_type": "display_data"
    },
    {
     "data": {
      "image/png": "[encoded data removed]",
      "text/plain": [
       "<Figure size 1000x600 with 1 Axes>"
      ]
     },
     "metadata": {},
     "output_type": "display_data"
    },
    {
     "data": {
      "image/png": "[encoded data removed]",
      "text/plain": [
       "<Figure size 1000x600 with 1 Axes>"
      ]
     },
     "metadata": {},
     "output_type": "display_data"
    }
   ],
   "source": [
    "numeric_columns = [col for col in data.columns if data[col].dtype in [np.float64, np.int64]]\n",
    "\n",
    "\n",
    "for col in numeric_columns:\n",
    "\n",
    "    Q1 = data[col].quantile(0.25)\n",
    "\n",
    "    Q3 = data[col].quantile(0.75)\n",
    "\n",
    "    IQR = Q3 - Q1\n",
    "\n",
    "    lower_limit = Q1 - 1.5 * IQR\n",
    "\n",
    "    upper_limit = Q3 + 1.5 * IQR\n",
    "\n",
    "    outliers = data[(data[col] < lower_limit) | (data[col] > upper_limit)].index\n",
    "\n",
    "    \n",
    "\n",
    "    # Plot boxplot for the current column\n",
    "\n",
    "    plt.figure(figsize=(10,6))\n",
    "\n",
    "    plt.boxplot(data[col])\n",
    "\n",
    "    plt.title(col)\n",
    "\n",
    "    plt.show()\n",
    "\n",
    "    \n",
    "\n",
    "    # Print the outliers for the current column\n",
    "\n",
    "    \n",
    "\n",
    "        "
   ]
  },
  {
   "cell_type": "code",
   "execution_count": 27,
   "id": "411cefa9",
   "metadata": {},
   "outputs": [],
   "source": [
    "#outliers in URLChatProb\n",
    "#sns.distplot(data.URLCharProb)"
   ]
  },
  {
   "cell_type": "code",
   "execution_count": 28,
   "id": "2092679c",
   "metadata": {},
   "outputs": [
    {
     "data": {
      "text/plain": [
       "(0.050747225, 0.0628754855)"
      ]
     },
     "execution_count": 28,
     "metadata": {},
     "output_type": "execute_result"
    }
   ],
   "source": [
    "Q1= data.URLCharProb.quantile(0.25)\n",
    "Q3= data.URLCharProb.quantile(0.75)\n",
    "Q1,Q3"
   ]
  },
  {
   "cell_type": "code",
   "execution_count": 29,
   "id": "92b83822",
   "metadata": {},
   "outputs": [
    {
     "data": {
      "text/plain": [
       "0.012128260499999995"
      ]
     },
     "execution_count": 29,
     "metadata": {},
     "output_type": "execute_result"
    }
   ],
   "source": [
    "IQR=Q3-Q1\n",
    "IQR\n"
   ]
  },
  {
   "cell_type": "code",
   "execution_count": 30,
   "id": "647f9695",
   "metadata": {},
   "outputs": [
    {
     "name": "stdout",
     "output_type": "stream",
     "text": [
      "min: 0.03255483425000001 \n",
      "max: 0.08106787624999999\n"
     ]
    }
   ],
   "source": [
    "min_boundary= Q1 - 1.5 * IQR\n",
    "max_boundary= Q3 + 1.5 * IQR\n",
    "\n",
    "print(\"min:\",min_boundary,\"\\nmax:\",max_boundary)"
   ]
  },
  {
   "cell_type": "code",
   "execution_count": 31,
   "id": "fceb2601",
   "metadata": {},
   "outputs": [],
   "source": [
    "def cap_URLCharProb(x):\n",
    "    if x > max_boundary:\n",
    "        x= max_boundary \n",
    "    elif x < min_boundary:\n",
    "        x= min_boundary\n",
    "    else:\n",
    "        x= x\n",
    "    return x \n",
    "\n",
    "\n",
    "data.URLCharProb=data.URLCharProb.apply(cap_URLCharProb)"
   ]
  },
  {
   "cell_type": "code",
   "execution_count": 32,
   "id": "d2febd35",
   "metadata": {},
   "outputs": [
    {
     "data": {
      "text/plain": [
       "<Axes: >"
      ]
     },
     "execution_count": 32,
     "metadata": {},
     "output_type": "execute_result"
    },
    {
     "data": {
      "image/png": "[encoded data removed]",
      "text/plain": [
       "<Figure size 640x480 with 1 Axes>"
      ]
     },
     "metadata": {},
     "output_type": "display_data"
    }
   ],
   "source": [
    "sns.boxplot(data.URLCharProb)"
   ]
  },
  {
   "cell_type": "markdown",
   "id": "b92fc77a",
   "metadata": {},
   "source": [
    "## Heatmap for correlation and dropping any correlated features"
   ]
  },
  {
   "cell_type": "code",
   "execution_count": 33,
   "id": "d2416f23",
   "metadata": {},
   "outputs": [
    {
     "data": {
      "text/plain": [
       "\"sns.heatmap(data.corr(), annot=True, fmt= '.2f')\\nplt.figure(figsize=(100, 100))\\nplt.show()\""
      ]
     },
     "execution_count": 33,
     "metadata": {},
     "output_type": "execute_result"
    }
   ],
   "source": [
    "'''sns.heatmap(data.corr(), annot=True, fmt= '.2f')\n",
    "plt.figure(figsize=(100, 100))\n",
    "plt.show()'''"
   ]
  },
  {
   "cell_type": "code",
   "execution_count": 34,
   "id": "18bc60e6",
   "metadata": {},
   "outputs": [],
   "source": [
    "#print(data.corr())"
   ]
  },
  {
   "cell_type": "code",
   "execution_count": 35,
   "id": "c45ed2bc",
   "metadata": {},
   "outputs": [],
   "source": [
    "data=data.drop(['DomainTitleMatchScore'], axis=1)"
   ]
  },
  {
   "cell_type": "code",
   "execution_count": 36,
   "id": "100c1c49",
   "metadata": {},
   "outputs": [
    {
     "data": {
      "text/html": [
       "<div>\n",
       "<style scoped>\n",
       "    .dataframe tbody tr th:only-of-type {\n",
       "        vertical-align: middle;\n",
       "    }\n",
       "\n",
       "    .dataframe tbody tr th {\n",
       "        vertical-align: top;\n",
       "    }\n",
       "\n",
       "    .dataframe thead th {\n",
       "        text-align: right;\n",
       "    }\n",
       "</style>\n",
       "<table border=\"1\" class=\"dataframe\">\n",
       "  <thead>\n",
       "    <tr style=\"text-align: right;\">\n",
       "      <th></th>\n",
       "      <th>ÿFILENAME</th>\n",
       "      <th>URL</th>\n",
       "      <th>Domain</th>\n",
       "      <th>TLD</th>\n",
       "      <th>URLSimilarityIndex</th>\n",
       "      <th>CharContinuationRate</th>\n",
       "      <th>TLDLegitimateProb</th>\n",
       "      <th>URLCharProb</th>\n",
       "      <th>IsHTTPS</th>\n",
       "      <th>LineOfCode</th>\n",
       "      <th>...</th>\n",
       "      <th>HasDescription</th>\n",
       "      <th>HasSocialNet</th>\n",
       "      <th>HasSubmitButton</th>\n",
       "      <th>HasHiddenFields</th>\n",
       "      <th>HasPasswordField</th>\n",
       "      <th>Bank</th>\n",
       "      <th>Pay</th>\n",
       "      <th>Crypto</th>\n",
       "      <th>NoOfExternalRef</th>\n",
       "      <th>label</th>\n",
       "    </tr>\n",
       "  </thead>\n",
       "  <tbody>\n",
       "    <tr>\n",
       "      <th>0</th>\n",
       "      <td>521848.txt</td>\n",
       "      <td>https://www.southbankmosaics.com</td>\n",
       "      <td>www.southbankmosaics.com</td>\n",
       "      <td>com</td>\n",
       "      <td>100.0</td>\n",
       "      <td>1.000000</td>\n",
       "      <td>0.522907</td>\n",
       "      <td>0.061933</td>\n",
       "      <td>1</td>\n",
       "      <td>558</td>\n",
       "      <td>...</td>\n",
       "      <td>0</td>\n",
       "      <td>0</td>\n",
       "      <td>1</td>\n",
       "      <td>1</td>\n",
       "      <td>0</td>\n",
       "      <td>1</td>\n",
       "      <td>0</td>\n",
       "      <td>0</td>\n",
       "      <td>124</td>\n",
       "      <td>1</td>\n",
       "    </tr>\n",
       "    <tr>\n",
       "      <th>1</th>\n",
       "      <td>31372.txt</td>\n",
       "      <td>https://www.uni-mainz.de</td>\n",
       "      <td>www.uni-mainz.de</td>\n",
       "      <td>de</td>\n",
       "      <td>100.0</td>\n",
       "      <td>0.666667</td>\n",
       "      <td>0.032650</td>\n",
       "      <td>0.050207</td>\n",
       "      <td>1</td>\n",
       "      <td>618</td>\n",
       "      <td>...</td>\n",
       "      <td>0</td>\n",
       "      <td>1</td>\n",
       "      <td>1</td>\n",
       "      <td>0</td>\n",
       "      <td>0</td>\n",
       "      <td>0</td>\n",
       "      <td>0</td>\n",
       "      <td>0</td>\n",
       "      <td>217</td>\n",
       "      <td>1</td>\n",
       "    </tr>\n",
       "    <tr>\n",
       "      <th>2</th>\n",
       "      <td>597387.txt</td>\n",
       "      <td>https://www.voicefmradio.co.uk</td>\n",
       "      <td>www.voicefmradio.co.uk</td>\n",
       "      <td>uk</td>\n",
       "      <td>100.0</td>\n",
       "      <td>0.866667</td>\n",
       "      <td>0.028555</td>\n",
       "      <td>0.064129</td>\n",
       "      <td>1</td>\n",
       "      <td>467</td>\n",
       "      <td>...</td>\n",
       "      <td>1</td>\n",
       "      <td>0</td>\n",
       "      <td>1</td>\n",
       "      <td>1</td>\n",
       "      <td>0</td>\n",
       "      <td>0</td>\n",
       "      <td>0</td>\n",
       "      <td>0</td>\n",
       "      <td>5</td>\n",
       "      <td>1</td>\n",
       "    </tr>\n",
       "    <tr>\n",
       "      <th>3</th>\n",
       "      <td>554095.txt</td>\n",
       "      <td>https://www.sfnmjournal.com</td>\n",
       "      <td>www.sfnmjournal.com</td>\n",
       "      <td>com</td>\n",
       "      <td>100.0</td>\n",
       "      <td>1.000000</td>\n",
       "      <td>0.522907</td>\n",
       "      <td>0.057606</td>\n",
       "      <td>1</td>\n",
       "      <td>6356</td>\n",
       "      <td>...</td>\n",
       "      <td>0</td>\n",
       "      <td>1</td>\n",
       "      <td>1</td>\n",
       "      <td>1</td>\n",
       "      <td>0</td>\n",
       "      <td>0</td>\n",
       "      <td>1</td>\n",
       "      <td>1</td>\n",
       "      <td>31</td>\n",
       "      <td>1</td>\n",
       "    </tr>\n",
       "    <tr>\n",
       "      <th>4</th>\n",
       "      <td>151578.txt</td>\n",
       "      <td>https://www.rewildingargentina.org</td>\n",
       "      <td>www.rewildingargentina.org</td>\n",
       "      <td>org</td>\n",
       "      <td>100.0</td>\n",
       "      <td>1.000000</td>\n",
       "      <td>0.079963</td>\n",
       "      <td>0.059441</td>\n",
       "      <td>1</td>\n",
       "      <td>6089</td>\n",
       "      <td>...</td>\n",
       "      <td>1</td>\n",
       "      <td>1</td>\n",
       "      <td>1</td>\n",
       "      <td>1</td>\n",
       "      <td>0</td>\n",
       "      <td>1</td>\n",
       "      <td>1</td>\n",
       "      <td>0</td>\n",
       "      <td>85</td>\n",
       "      <td>1</td>\n",
       "    </tr>\n",
       "  </tbody>\n",
       "</table>\n",
       "<p>5 rows × 27 columns</p>\n",
       "</div>"
      ],
      "text/plain": [
       "    ÿFILENAME                                 URL                      Domain  \\\n",
       "0  521848.txt    https://www.southbankmosaics.com    www.southbankmosaics.com   \n",
       "1   31372.txt            https://www.uni-mainz.de            www.uni-mainz.de   \n",
       "2  597387.txt      https://www.voicefmradio.co.uk      www.voicefmradio.co.uk   \n",
       "3  554095.txt         https://www.sfnmjournal.com         www.sfnmjournal.com   \n",
       "4  151578.txt  https://www.rewildingargentina.org  www.rewildingargentina.org   \n",
       "\n",
       "   TLD  URLSimilarityIndex  CharContinuationRate  TLDLegitimateProb  \\\n",
       "0  com               100.0              1.000000           0.522907   \n",
       "1   de               100.0              0.666667           0.032650   \n",
       "2   uk               100.0              0.866667           0.028555   \n",
       "3  com               100.0              1.000000           0.522907   \n",
       "4  org               100.0              1.000000           0.079963   \n",
       "\n",
       "   URLCharProb  IsHTTPS  LineOfCode  ...  HasDescription  HasSocialNet  \\\n",
       "0     0.061933        1         558  ...               0             0   \n",
       "1     0.050207        1         618  ...               0             1   \n",
       "2     0.064129        1         467  ...               1             0   \n",
       "3     0.057606        1        6356  ...               0             1   \n",
       "4     0.059441        1        6089  ...               1             1   \n",
       "\n",
       "  HasSubmitButton  HasHiddenFields  HasPasswordField  Bank  Pay  Crypto  \\\n",
       "0               1                1                 0     1    0       0   \n",
       "1               1                0                 0     0    0       0   \n",
       "2               1                1                 0     0    0       0   \n",
       "3               1                1                 0     0    1       1   \n",
       "4               1                1                 0     1    1       0   \n",
       "\n",
       "   NoOfExternalRef  label  \n",
       "0              124      1  \n",
       "1              217      1  \n",
       "2                5      1  \n",
       "3               31      1  \n",
       "4               85      1  \n",
       "\n",
       "[5 rows x 27 columns]"
      ]
     },
     "execution_count": 36,
     "metadata": {},
     "output_type": "execute_result"
    }
   ],
   "source": [
    "data.head(5)\n"
   ]
  },
  {
   "cell_type": "code",
   "execution_count": 37,
   "id": "efa270a8",
   "metadata": {
    "scrolled": true
   },
   "outputs": [
    {
     "data": {
      "text/plain": [
       "https://disclosepack.myportfolio.com/                                                         2\n",
       "https://barlandas.com/reprisedefunction/unzupdm/                                              2\n",
       "http://app-batasotak1244acces.kvoiffugw9-yk26ed5vg379.p.temp-site.link/termsofservice.html    2\n",
       "https://fleek.ipfs.io/ipfs/qmzt2xz7uq7tdgiirmv7u7zaabtfhjn8jzouurbptgtgal/                    2\n",
       "https://sucursalvirtualpersona.la-empresaempre.repl.co/                                       2\n",
       "                                                                                             ..\n",
       "https://www.clothdiaperkids.com                                                               1\n",
       "https://www.toucansolution.com                                                                1\n",
       "https://www.tirnavos.gr                                                                       1\n",
       "https://www.lovehappyhour.com                                                                 1\n",
       "https://www.alternativefinland.com                                                            1\n",
       "Name: URL, Length: 235370, dtype: int64"
      ]
     },
     "execution_count": 37,
     "metadata": {},
     "output_type": "execute_result"
    }
   ],
   "source": [
    "data['URL'].value_counts()"
   ]
  },
  {
   "cell_type": "code",
   "execution_count": 38,
   "id": "beb51919",
   "metadata": {},
   "outputs": [
    {
     "name": "stdout",
     "output_type": "stream",
     "text": [
      "<class 'pandas.core.frame.DataFrame'>\n",
      "RangeIndex: 235795 entries, 0 to 235794\n",
      "Data columns (total 27 columns):\n",
      " #   Column                Non-Null Count   Dtype  \n",
      "---  ------                --------------   -----  \n",
      " 0   ÿFILENAME             235795 non-null  object \n",
      " 1   URL                   235795 non-null  object \n",
      " 2   Domain                235795 non-null  object \n",
      " 3   TLD                   235795 non-null  object \n",
      " 4   URLSimilarityIndex    235795 non-null  float64\n",
      " 5   CharContinuationRate  235795 non-null  float64\n",
      " 6   TLDLegitimateProb     235795 non-null  float64\n",
      " 7   URLCharProb           235795 non-null  float64\n",
      " 8   IsHTTPS               235795 non-null  int64  \n",
      " 9   LineOfCode            235795 non-null  int64  \n",
      " 10  LargestLineLength     235795 non-null  int64  \n",
      " 11  HasTitle              235795 non-null  int64  \n",
      " 12  Title                 235795 non-null  object \n",
      " 13  URLTitleMatchScore    235795 non-null  float64\n",
      " 14  HasFavicon            235795 non-null  int64  \n",
      " 15  Robots                235795 non-null  int64  \n",
      " 16  IsResponsive          235795 non-null  int64  \n",
      " 17  HasDescription        235795 non-null  int64  \n",
      " 18  HasSocialNet          235795 non-null  int64  \n",
      " 19  HasSubmitButton       235795 non-null  int64  \n",
      " 20  HasHiddenFields       235795 non-null  int64  \n",
      " 21  HasPasswordField      235795 non-null  int64  \n",
      " 22  Bank                  235795 non-null  int64  \n",
      " 23  Pay                   235795 non-null  int64  \n",
      " 24  Crypto                235795 non-null  int64  \n",
      " 25  NoOfExternalRef       235795 non-null  int64  \n",
      " 26  label                 235795 non-null  int64  \n",
      "dtypes: float64(5), int64(17), object(5)\n",
      "memory usage: 48.6+ MB\n"
     ]
    }
   ],
   "source": [
    "data.info()\n"
   ]
  },
  {
   "cell_type": "code",
   "execution_count": 39,
   "id": "3f11bc64",
   "metadata": {},
   "outputs": [
    {
     "data": {
      "text/plain": [
       "<Axes: ylabel='count'>"
      ]
     },
     "execution_count": 39,
     "metadata": {},
     "output_type": "execute_result"
    },
    {
     "data": {
      "image/png": "[encoded data removed]",
      "text/plain": [
       "<Figure size 640x480 with 1 Axes>"
      ]
     },
     "metadata": {},
     "output_type": "display_data"
    }
   ],
   "source": [
    "# labelEncoder present in scikitlearn library\n",
    "from sklearn.preprocessing import LabelEncoder \n",
    "le = LabelEncoder()\n",
    "data['ÿFILENAME'] = le.fit_transform(data['ÿFILENAME'])\n",
    "sns.set(style =\"darkgrid\")\n",
    "sns.countplot(data['ÿFILENAME'])\n"
   ]
  },
  {
   "cell_type": "markdown",
   "id": "d0d5d8a2",
   "metadata": {},
   "source": [
    "## Using encoding techniques to modify categorical data"
   ]
  },
  {
   "cell_type": "code",
   "execution_count": 40,
   "id": "d97dbf37",
   "metadata": {},
   "outputs": [
    {
     "data": {
      "text/plain": [
       "0          62810\n",
       "1          30568\n",
       "2          79880\n",
       "3          69962\n",
       "4          11694\n",
       "           ...  \n",
       "235790     93848\n",
       "235791    113036\n",
       "235792     85824\n",
       "235793    108327\n",
       "235794     33318\n",
       "Name: ÿFILENAME, Length: 235795, dtype: int32"
      ]
     },
     "execution_count": 40,
     "metadata": {},
     "output_type": "execute_result"
    }
   ],
   "source": [
    "data['ÿFILENAME']\n"
   ]
  },
  {
   "cell_type": "code",
   "execution_count": 41,
   "id": "917b8732",
   "metadata": {},
   "outputs": [
    {
     "name": "stdout",
     "output_type": "stream",
     "text": [
      "<class 'pandas.core.frame.DataFrame'>\n",
      "RangeIndex: 235795 entries, 0 to 235794\n",
      "Data columns (total 27 columns):\n",
      " #   Column                Non-Null Count   Dtype  \n",
      "---  ------                --------------   -----  \n",
      " 0   ÿFILENAME             235795 non-null  int32  \n",
      " 1   URL                   235795 non-null  object \n",
      " 2   Domain                235795 non-null  object \n",
      " 3   TLD                   235795 non-null  object \n",
      " 4   URLSimilarityIndex    235795 non-null  float64\n",
      " 5   CharContinuationRate  235795 non-null  float64\n",
      " 6   TLDLegitimateProb     235795 non-null  float64\n",
      " 7   URLCharProb           235795 non-null  float64\n",
      " 8   IsHTTPS               235795 non-null  int64  \n",
      " 9   LineOfCode            235795 non-null  int64  \n",
      " 10  LargestLineLength     235795 non-null  int64  \n",
      " 11  HasTitle              235795 non-null  int64  \n",
      " 12  Title                 235795 non-null  object \n",
      " 13  URLTitleMatchScore    235795 non-null  float64\n",
      " 14  HasFavicon            235795 non-null  int64  \n",
      " 15  Robots                235795 non-null  int64  \n",
      " 16  IsResponsive          235795 non-null  int64  \n",
      " 17  HasDescription        235795 non-null  int64  \n",
      " 18  HasSocialNet          235795 non-null  int64  \n",
      " 19  HasSubmitButton       235795 non-null  int64  \n",
      " 20  HasHiddenFields       235795 non-null  int64  \n",
      " 21  HasPasswordField      235795 non-null  int64  \n",
      " 22  Bank                  235795 non-null  int64  \n",
      " 23  Pay                   235795 non-null  int64  \n",
      " 24  Crypto                235795 non-null  int64  \n",
      " 25  NoOfExternalRef       235795 non-null  int64  \n",
      " 26  label                 235795 non-null  int64  \n",
      "dtypes: float64(5), int32(1), int64(17), object(4)\n",
      "memory usage: 47.7+ MB\n"
     ]
    }
   ],
   "source": [
    "data.info()"
   ]
  },
  {
   "cell_type": "code",
   "execution_count": 42,
   "id": "3b7d29bf",
   "metadata": {},
   "outputs": [],
   "source": [
    "# labelEncoder present in scikitlearn library\n",
    "from sklearn.preprocessing import LabelEncoder \n",
    "le = LabelEncoder()\n",
    "data['URL'] = le.fit_transform(data['URL'])\n",
    "data['Domain'] = le.fit_transform(data['Domain'])\n",
    "data['URL'] = le.fit_transform(data['URL'])\n",
    "data['TLD'] = le.fit_transform(data['TLD'])\n",
    "data['Title'] = le.fit_transform(data['Title'])\n",
    "\n"
   ]
  },
  {
   "cell_type": "code",
   "execution_count": 43,
   "id": "2d4a11da",
   "metadata": {},
   "outputs": [
    {
     "name": "stdout",
     "output_type": "stream",
     "text": [
      "<class 'pandas.core.frame.DataFrame'>\n",
      "RangeIndex: 235795 entries, 0 to 235794\n",
      "Data columns (total 27 columns):\n",
      " #   Column                Non-Null Count   Dtype  \n",
      "---  ------                --------------   -----  \n",
      " 0   ÿFILENAME             235795 non-null  int32  \n",
      " 1   URL                   235795 non-null  int64  \n",
      " 2   Domain                235795 non-null  int32  \n",
      " 3   TLD                   235795 non-null  int32  \n",
      " 4   URLSimilarityIndex    235795 non-null  float64\n",
      " 5   CharContinuationRate  235795 non-null  float64\n",
      " 6   TLDLegitimateProb     235795 non-null  float64\n",
      " 7   URLCharProb           235795 non-null  float64\n",
      " 8   IsHTTPS               235795 non-null  int64  \n",
      " 9   LineOfCode            235795 non-null  int64  \n",
      " 10  LargestLineLength     235795 non-null  int64  \n",
      " 11  HasTitle              235795 non-null  int64  \n",
      " 12  Title                 235795 non-null  int32  \n",
      " 13  URLTitleMatchScore    235795 non-null  float64\n",
      " 14  HasFavicon            235795 non-null  int64  \n",
      " 15  Robots                235795 non-null  int64  \n",
      " 16  IsResponsive          235795 non-null  int64  \n",
      " 17  HasDescription        235795 non-null  int64  \n",
      " 18  HasSocialNet          235795 non-null  int64  \n",
      " 19  HasSubmitButton       235795 non-null  int64  \n",
      " 20  HasHiddenFields       235795 non-null  int64  \n",
      " 21  HasPasswordField      235795 non-null  int64  \n",
      " 22  Bank                  235795 non-null  int64  \n",
      " 23  Pay                   235795 non-null  int64  \n",
      " 24  Crypto                235795 non-null  int64  \n",
      " 25  NoOfExternalRef       235795 non-null  int64  \n",
      " 26  label                 235795 non-null  int64  \n",
      "dtypes: float64(5), int32(4), int64(18)\n",
      "memory usage: 45.0 MB\n"
     ]
    }
   ],
   "source": [
    "data.info()"
   ]
  },
  {
   "cell_type": "code",
   "execution_count": 44,
   "id": "3d794f78",
   "metadata": {},
   "outputs": [
    {
     "data": {
      "text/html": [
       "<div>\n",
       "<style scoped>\n",
       "    .dataframe tbody tr th:only-of-type {\n",
       "        vertical-align: middle;\n",
       "    }\n",
       "\n",
       "    .dataframe tbody tr th {\n",
       "        vertical-align: top;\n",
       "    }\n",
       "\n",
       "    .dataframe thead th {\n",
       "        text-align: right;\n",
       "    }\n",
       "</style>\n",
       "<table border=\"1\" class=\"dataframe\">\n",
       "  <thead>\n",
       "    <tr style=\"text-align: right;\">\n",
       "      <th></th>\n",
       "      <th>ÿFILENAME</th>\n",
       "      <th>URL</th>\n",
       "      <th>Domain</th>\n",
       "      <th>TLD</th>\n",
       "      <th>URLSimilarityIndex</th>\n",
       "      <th>CharContinuationRate</th>\n",
       "      <th>TLDLegitimateProb</th>\n",
       "      <th>URLCharProb</th>\n",
       "      <th>IsHTTPS</th>\n",
       "      <th>LineOfCode</th>\n",
       "      <th>...</th>\n",
       "      <th>HasDescription</th>\n",
       "      <th>HasSocialNet</th>\n",
       "      <th>HasSubmitButton</th>\n",
       "      <th>HasHiddenFields</th>\n",
       "      <th>HasPasswordField</th>\n",
       "      <th>Bank</th>\n",
       "      <th>Pay</th>\n",
       "      <th>Crypto</th>\n",
       "      <th>NoOfExternalRef</th>\n",
       "      <th>label</th>\n",
       "    </tr>\n",
       "  </thead>\n",
       "  <tbody>\n",
       "    <tr>\n",
       "      <th>0</th>\n",
       "      <td>62810</td>\n",
       "      <td>209013</td>\n",
       "      <td>187114</td>\n",
       "      <td>231</td>\n",
       "      <td>100.0</td>\n",
       "      <td>1.000000</td>\n",
       "      <td>0.522907</td>\n",
       "      <td>0.061933</td>\n",
       "      <td>1</td>\n",
       "      <td>558</td>\n",
       "      <td>...</td>\n",
       "      <td>0</td>\n",
       "      <td>0</td>\n",
       "      <td>1</td>\n",
       "      <td>1</td>\n",
       "      <td>0</td>\n",
       "      <td>1</td>\n",
       "      <td>0</td>\n",
       "      <td>0</td>\n",
       "      <td>124</td>\n",
       "      <td>1</td>\n",
       "    </tr>\n",
       "    <tr>\n",
       "      <th>1</th>\n",
       "      <td>30568</td>\n",
       "      <td>223747</td>\n",
       "      <td>204805</td>\n",
       "      <td>254</td>\n",
       "      <td>100.0</td>\n",
       "      <td>0.666667</td>\n",
       "      <td>0.032650</td>\n",
       "      <td>0.050207</td>\n",
       "      <td>1</td>\n",
       "      <td>618</td>\n",
       "      <td>...</td>\n",
       "      <td>0</td>\n",
       "      <td>1</td>\n",
       "      <td>1</td>\n",
       "      <td>0</td>\n",
       "      <td>0</td>\n",
       "      <td>0</td>\n",
       "      <td>0</td>\n",
       "      <td>0</td>\n",
       "      <td>217</td>\n",
       "      <td>1</td>\n",
       "    </tr>\n",
       "    <tr>\n",
       "      <th>2</th>\n",
       "      <td>79880</td>\n",
       "      <td>227579</td>\n",
       "      <td>209611</td>\n",
       "      <td>647</td>\n",
       "      <td>100.0</td>\n",
       "      <td>0.866667</td>\n",
       "      <td>0.028555</td>\n",
       "      <td>0.064129</td>\n",
       "      <td>1</td>\n",
       "      <td>467</td>\n",
       "      <td>...</td>\n",
       "      <td>1</td>\n",
       "      <td>0</td>\n",
       "      <td>1</td>\n",
       "      <td>1</td>\n",
       "      <td>0</td>\n",
       "      <td>0</td>\n",
       "      <td>0</td>\n",
       "      <td>0</td>\n",
       "      <td>5</td>\n",
       "      <td>1</td>\n",
       "    </tr>\n",
       "    <tr>\n",
       "      <th>3</th>\n",
       "      <td>69962</td>\n",
       "      <td>205082</td>\n",
       "      <td>182115</td>\n",
       "      <td>231</td>\n",
       "      <td>100.0</td>\n",
       "      <td>1.000000</td>\n",
       "      <td>0.522907</td>\n",
       "      <td>0.057606</td>\n",
       "      <td>1</td>\n",
       "      <td>6356</td>\n",
       "      <td>...</td>\n",
       "      <td>0</td>\n",
       "      <td>1</td>\n",
       "      <td>1</td>\n",
       "      <td>1</td>\n",
       "      <td>0</td>\n",
       "      <td>0</td>\n",
       "      <td>1</td>\n",
       "      <td>1</td>\n",
       "      <td>31</td>\n",
       "      <td>1</td>\n",
       "    </tr>\n",
       "    <tr>\n",
       "      <th>4</th>\n",
       "      <td>11694</td>\n",
       "      <td>198761</td>\n",
       "      <td>173664</td>\n",
       "      <td>503</td>\n",
       "      <td>100.0</td>\n",
       "      <td>1.000000</td>\n",
       "      <td>0.079963</td>\n",
       "      <td>0.059441</td>\n",
       "      <td>1</td>\n",
       "      <td>6089</td>\n",
       "      <td>...</td>\n",
       "      <td>1</td>\n",
       "      <td>1</td>\n",
       "      <td>1</td>\n",
       "      <td>1</td>\n",
       "      <td>0</td>\n",
       "      <td>1</td>\n",
       "      <td>1</td>\n",
       "      <td>0</td>\n",
       "      <td>85</td>\n",
       "      <td>1</td>\n",
       "    </tr>\n",
       "    <tr>\n",
       "      <th>5</th>\n",
       "      <td>22398</td>\n",
       "      <td>146024</td>\n",
       "      <td>107600</td>\n",
       "      <td>503</td>\n",
       "      <td>100.0</td>\n",
       "      <td>1.000000</td>\n",
       "      <td>0.079963</td>\n",
       "      <td>0.060614</td>\n",
       "      <td>1</td>\n",
       "      <td>1210</td>\n",
       "      <td>...</td>\n",
       "      <td>1</td>\n",
       "      <td>1</td>\n",
       "      <td>0</td>\n",
       "      <td>1</td>\n",
       "      <td>0</td>\n",
       "      <td>0</td>\n",
       "      <td>0</td>\n",
       "      <td>0</td>\n",
       "      <td>14</td>\n",
       "      <td>1</td>\n",
       "    </tr>\n",
       "    <tr>\n",
       "      <th>6</th>\n",
       "      <td>22219</td>\n",
       "      <td>201621</td>\n",
       "      <td>177115</td>\n",
       "      <td>231</td>\n",
       "      <td>100.0</td>\n",
       "      <td>1.000000</td>\n",
       "      <td>0.522907</td>\n",
       "      <td>0.063549</td>\n",
       "      <td>1</td>\n",
       "      <td>1024</td>\n",
       "      <td>...</td>\n",
       "      <td>0</td>\n",
       "      <td>1</td>\n",
       "      <td>0</td>\n",
       "      <td>1</td>\n",
       "      <td>0</td>\n",
       "      <td>0</td>\n",
       "      <td>0</td>\n",
       "      <td>0</td>\n",
       "      <td>17</td>\n",
       "      <td>1</td>\n",
       "    </tr>\n",
       "    <tr>\n",
       "      <th>7</th>\n",
       "      <td>97724</td>\n",
       "      <td>181341</td>\n",
       "      <td>151627</td>\n",
       "      <td>231</td>\n",
       "      <td>100.0</td>\n",
       "      <td>1.000000</td>\n",
       "      <td>0.522907</td>\n",
       "      <td>0.060486</td>\n",
       "      <td>1</td>\n",
       "      <td>514</td>\n",
       "      <td>...</td>\n",
       "      <td>1</td>\n",
       "      <td>1</td>\n",
       "      <td>1</td>\n",
       "      <td>0</td>\n",
       "      <td>0</td>\n",
       "      <td>0</td>\n",
       "      <td>0</td>\n",
       "      <td>0</td>\n",
       "      <td>15</td>\n",
       "      <td>1</td>\n",
       "    </tr>\n",
       "    <tr>\n",
       "      <th>8</th>\n",
       "      <td>106043</td>\n",
       "      <td>153299</td>\n",
       "      <td>116740</td>\n",
       "      <td>368</td>\n",
       "      <td>100.0</td>\n",
       "      <td>1.000000</td>\n",
       "      <td>0.005084</td>\n",
       "      <td>0.056980</td>\n",
       "      <td>1</td>\n",
       "      <td>2371</td>\n",
       "      <td>...</td>\n",
       "      <td>1</td>\n",
       "      <td>1</td>\n",
       "      <td>1</td>\n",
       "      <td>1</td>\n",
       "      <td>1</td>\n",
       "      <td>0</td>\n",
       "      <td>0</td>\n",
       "      <td>0</td>\n",
       "      <td>317</td>\n",
       "      <td>1</td>\n",
       "    </tr>\n",
       "    <tr>\n",
       "      <th>9</th>\n",
       "      <td>10029</td>\n",
       "      <td>97961</td>\n",
       "      <td>46722</td>\n",
       "      <td>503</td>\n",
       "      <td>100.0</td>\n",
       "      <td>1.000000</td>\n",
       "      <td>0.079963</td>\n",
       "      <td>0.070497</td>\n",
       "      <td>1</td>\n",
       "      <td>2730</td>\n",
       "      <td>...</td>\n",
       "      <td>1</td>\n",
       "      <td>1</td>\n",
       "      <td>0</td>\n",
       "      <td>0</td>\n",
       "      <td>0</td>\n",
       "      <td>0</td>\n",
       "      <td>0</td>\n",
       "      <td>0</td>\n",
       "      <td>65</td>\n",
       "      <td>1</td>\n",
       "    </tr>\n",
       "  </tbody>\n",
       "</table>\n",
       "<p>10 rows × 27 columns</p>\n",
       "</div>"
      ],
      "text/plain": [
       "   ÿFILENAME     URL  Domain  TLD  URLSimilarityIndex  CharContinuationRate  \\\n",
       "0      62810  209013  187114  231               100.0              1.000000   \n",
       "1      30568  223747  204805  254               100.0              0.666667   \n",
       "2      79880  227579  209611  647               100.0              0.866667   \n",
       "3      69962  205082  182115  231               100.0              1.000000   \n",
       "4      11694  198761  173664  503               100.0              1.000000   \n",
       "5      22398  146024  107600  503               100.0              1.000000   \n",
       "6      22219  201621  177115  231               100.0              1.000000   \n",
       "7      97724  181341  151627  231               100.0              1.000000   \n",
       "8     106043  153299  116740  368               100.0              1.000000   \n",
       "9      10029   97961   46722  503               100.0              1.000000   \n",
       "\n",
       "   TLDLegitimateProb  URLCharProb  IsHTTPS  LineOfCode  ...  HasDescription  \\\n",
       "0           0.522907     0.061933        1         558  ...               0   \n",
       "1           0.032650     0.050207        1         618  ...               0   \n",
       "2           0.028555     0.064129        1         467  ...               1   \n",
       "3           0.522907     0.057606        1        6356  ...               0   \n",
       "4           0.079963     0.059441        1        6089  ...               1   \n",
       "5           0.079963     0.060614        1        1210  ...               1   \n",
       "6           0.522907     0.063549        1        1024  ...               0   \n",
       "7           0.522907     0.060486        1         514  ...               1   \n",
       "8           0.005084     0.056980        1        2371  ...               1   \n",
       "9           0.079963     0.070497        1        2730  ...               1   \n",
       "\n",
       "   HasSocialNet  HasSubmitButton  HasHiddenFields  HasPasswordField  Bank  \\\n",
       "0             0                1                1                 0     1   \n",
       "1             1                1                0                 0     0   \n",
       "2             0                1                1                 0     0   \n",
       "3             1                1                1                 0     0   \n",
       "4             1                1                1                 0     1   \n",
       "5             1                0                1                 0     0   \n",
       "6             1                0                1                 0     0   \n",
       "7             1                1                0                 0     0   \n",
       "8             1                1                1                 1     0   \n",
       "9             1                0                0                 0     0   \n",
       "\n",
       "   Pay  Crypto  NoOfExternalRef  label  \n",
       "0    0       0              124      1  \n",
       "1    0       0              217      1  \n",
       "2    0       0                5      1  \n",
       "3    1       1               31      1  \n",
       "4    1       0               85      1  \n",
       "5    0       0               14      1  \n",
       "6    0       0               17      1  \n",
       "7    0       0               15      1  \n",
       "8    0       0              317      1  \n",
       "9    0       0               65      1  \n",
       "\n",
       "[10 rows x 27 columns]"
      ]
     },
     "execution_count": 44,
     "metadata": {},
     "output_type": "execute_result"
    }
   ],
   "source": [
    "data.head(10)"
   ]
  },
  {
   "cell_type": "markdown",
   "id": "361d16e1",
   "metadata": {},
   "source": [
    "## Splitting data into train and test"
   ]
  },
  {
   "cell_type": "code",
   "execution_count": 45,
   "id": "995a9c8f",
   "metadata": {},
   "outputs": [
    {
     "data": {
      "text/html": [
       "<div>\n",
       "<style scoped>\n",
       "    .dataframe tbody tr th:only-of-type {\n",
       "        vertical-align: middle;\n",
       "    }\n",
       "\n",
       "    .dataframe tbody tr th {\n",
       "        vertical-align: top;\n",
       "    }\n",
       "\n",
       "    .dataframe thead th {\n",
       "        text-align: right;\n",
       "    }\n",
       "</style>\n",
       "<table border=\"1\" class=\"dataframe\">\n",
       "  <thead>\n",
       "    <tr style=\"text-align: right;\">\n",
       "      <th></th>\n",
       "      <th>ÿFILENAME</th>\n",
       "      <th>URL</th>\n",
       "      <th>Domain</th>\n",
       "      <th>TLD</th>\n",
       "      <th>URLSimilarityIndex</th>\n",
       "      <th>CharContinuationRate</th>\n",
       "      <th>TLDLegitimateProb</th>\n",
       "      <th>URLCharProb</th>\n",
       "      <th>IsHTTPS</th>\n",
       "      <th>LineOfCode</th>\n",
       "      <th>...</th>\n",
       "      <th>IsResponsive</th>\n",
       "      <th>HasDescription</th>\n",
       "      <th>HasSocialNet</th>\n",
       "      <th>HasSubmitButton</th>\n",
       "      <th>HasHiddenFields</th>\n",
       "      <th>HasPasswordField</th>\n",
       "      <th>Bank</th>\n",
       "      <th>Pay</th>\n",
       "      <th>Crypto</th>\n",
       "      <th>NoOfExternalRef</th>\n",
       "    </tr>\n",
       "  </thead>\n",
       "  <tbody>\n",
       "    <tr>\n",
       "      <th>0</th>\n",
       "      <td>62810</td>\n",
       "      <td>209013</td>\n",
       "      <td>187114</td>\n",
       "      <td>231</td>\n",
       "      <td>100.0</td>\n",
       "      <td>1.000000</td>\n",
       "      <td>0.522907</td>\n",
       "      <td>0.061933</td>\n",
       "      <td>1</td>\n",
       "      <td>558</td>\n",
       "      <td>...</td>\n",
       "      <td>1</td>\n",
       "      <td>0</td>\n",
       "      <td>0</td>\n",
       "      <td>1</td>\n",
       "      <td>1</td>\n",
       "      <td>0</td>\n",
       "      <td>1</td>\n",
       "      <td>0</td>\n",
       "      <td>0</td>\n",
       "      <td>124</td>\n",
       "    </tr>\n",
       "    <tr>\n",
       "      <th>1</th>\n",
       "      <td>30568</td>\n",
       "      <td>223747</td>\n",
       "      <td>204805</td>\n",
       "      <td>254</td>\n",
       "      <td>100.0</td>\n",
       "      <td>0.666667</td>\n",
       "      <td>0.032650</td>\n",
       "      <td>0.050207</td>\n",
       "      <td>1</td>\n",
       "      <td>618</td>\n",
       "      <td>...</td>\n",
       "      <td>0</td>\n",
       "      <td>0</td>\n",
       "      <td>1</td>\n",
       "      <td>1</td>\n",
       "      <td>0</td>\n",
       "      <td>0</td>\n",
       "      <td>0</td>\n",
       "      <td>0</td>\n",
       "      <td>0</td>\n",
       "      <td>217</td>\n",
       "    </tr>\n",
       "    <tr>\n",
       "      <th>2</th>\n",
       "      <td>79880</td>\n",
       "      <td>227579</td>\n",
       "      <td>209611</td>\n",
       "      <td>647</td>\n",
       "      <td>100.0</td>\n",
       "      <td>0.866667</td>\n",
       "      <td>0.028555</td>\n",
       "      <td>0.064129</td>\n",
       "      <td>1</td>\n",
       "      <td>467</td>\n",
       "      <td>...</td>\n",
       "      <td>1</td>\n",
       "      <td>1</td>\n",
       "      <td>0</td>\n",
       "      <td>1</td>\n",
       "      <td>1</td>\n",
       "      <td>0</td>\n",
       "      <td>0</td>\n",
       "      <td>0</td>\n",
       "      <td>0</td>\n",
       "      <td>5</td>\n",
       "    </tr>\n",
       "    <tr>\n",
       "      <th>3</th>\n",
       "      <td>69962</td>\n",
       "      <td>205082</td>\n",
       "      <td>182115</td>\n",
       "      <td>231</td>\n",
       "      <td>100.0</td>\n",
       "      <td>1.000000</td>\n",
       "      <td>0.522907</td>\n",
       "      <td>0.057606</td>\n",
       "      <td>1</td>\n",
       "      <td>6356</td>\n",
       "      <td>...</td>\n",
       "      <td>1</td>\n",
       "      <td>0</td>\n",
       "      <td>1</td>\n",
       "      <td>1</td>\n",
       "      <td>1</td>\n",
       "      <td>0</td>\n",
       "      <td>0</td>\n",
       "      <td>1</td>\n",
       "      <td>1</td>\n",
       "      <td>31</td>\n",
       "    </tr>\n",
       "    <tr>\n",
       "      <th>4</th>\n",
       "      <td>11694</td>\n",
       "      <td>198761</td>\n",
       "      <td>173664</td>\n",
       "      <td>503</td>\n",
       "      <td>100.0</td>\n",
       "      <td>1.000000</td>\n",
       "      <td>0.079963</td>\n",
       "      <td>0.059441</td>\n",
       "      <td>1</td>\n",
       "      <td>6089</td>\n",
       "      <td>...</td>\n",
       "      <td>1</td>\n",
       "      <td>1</td>\n",
       "      <td>1</td>\n",
       "      <td>1</td>\n",
       "      <td>1</td>\n",
       "      <td>0</td>\n",
       "      <td>1</td>\n",
       "      <td>1</td>\n",
       "      <td>0</td>\n",
       "      <td>85</td>\n",
       "    </tr>\n",
       "  </tbody>\n",
       "</table>\n",
       "<p>5 rows × 26 columns</p>\n",
       "</div>"
      ],
      "text/plain": [
       "   ÿFILENAME     URL  Domain  TLD  URLSimilarityIndex  CharContinuationRate  \\\n",
       "0      62810  209013  187114  231               100.0              1.000000   \n",
       "1      30568  223747  204805  254               100.0              0.666667   \n",
       "2      79880  227579  209611  647               100.0              0.866667   \n",
       "3      69962  205082  182115  231               100.0              1.000000   \n",
       "4      11694  198761  173664  503               100.0              1.000000   \n",
       "\n",
       "   TLDLegitimateProb  URLCharProb  IsHTTPS  LineOfCode  ...  IsResponsive  \\\n",
       "0           0.522907     0.061933        1         558  ...             1   \n",
       "1           0.032650     0.050207        1         618  ...             0   \n",
       "2           0.028555     0.064129        1         467  ...             1   \n",
       "3           0.522907     0.057606        1        6356  ...             1   \n",
       "4           0.079963     0.059441        1        6089  ...             1   \n",
       "\n",
       "   HasDescription  HasSocialNet  HasSubmitButton  HasHiddenFields  \\\n",
       "0               0             0                1                1   \n",
       "1               0             1                1                0   \n",
       "2               1             0                1                1   \n",
       "3               0             1                1                1   \n",
       "4               1             1                1                1   \n",
       "\n",
       "   HasPasswordField  Bank  Pay  Crypto  NoOfExternalRef  \n",
       "0                 0     1    0       0              124  \n",
       "1                 0     0    0       0              217  \n",
       "2                 0     0    0       0                5  \n",
       "3                 0     0    1       1               31  \n",
       "4                 0     1    1       0               85  \n",
       "\n",
       "[5 rows x 26 columns]"
      ]
     },
     "execution_count": 45,
     "metadata": {},
     "output_type": "execute_result"
    }
   ],
   "source": [
    "X=data.drop('label',axis=1)\n",
    "X.head(5)"
   ]
  },
  {
   "cell_type": "code",
   "execution_count": 46,
   "id": "cc77cae1",
   "metadata": {},
   "outputs": [
    {
     "data": {
      "text/plain": [
       "0         1\n",
       "1         1\n",
       "2         1\n",
       "3         1\n",
       "4         1\n",
       "         ..\n",
       "235790    1\n",
       "235791    1\n",
       "235792    1\n",
       "235793    0\n",
       "235794    1\n",
       "Name: label, Length: 235795, dtype: int64"
      ]
     },
     "execution_count": 46,
     "metadata": {},
     "output_type": "execute_result"
    }
   ],
   "source": [
    "Y=data['label']\n",
    "Y"
   ]
  },
  {
   "cell_type": "code",
   "execution_count": 47,
   "id": "9d61f6b1",
   "metadata": {},
   "outputs": [],
   "source": [
    "from sklearn.model_selection import train_test_split\n",
    "X_train, X_test, Y_train, Y_test=train_test_split(X,Y,test_size=0.2,random_state=101,stratify=Y)"
   ]
  },
  {
   "cell_type": "markdown",
   "id": "59fd09f7",
   "metadata": {},
   "source": [
    "## applying standardization technique "
   ]
  },
  {
   "cell_type": "code",
   "execution_count": 48,
   "id": "3886f37f",
   "metadata": {},
   "outputs": [
    {
     "data": {
      "text/plain": [
       "1    107880\n",
       "0     80756\n",
       "Name: label, dtype: int64"
      ]
     },
     "execution_count": 48,
     "metadata": {},
     "output_type": "execute_result"
    }
   ],
   "source": [
    "from sklearn.preprocessing import StandardScaler\n",
    "std=StandardScaler()\n",
    "X_train_std=std.fit_transform(X_train)\n",
    "X_test_std=std.transform(X_test)\n",
    "Y_train.value_counts()"
   ]
  },
  {
   "cell_type": "code",
   "execution_count": 49,
   "id": "16fe40ed",
   "metadata": {},
   "outputs": [
    {
     "data": {
      "text/plain": [
       "array([[ 0.71046671, -0.32961394, -0.97197827, ..., -0.55794421,\n",
       "        -0.15516752, -0.29314179],\n",
       "       [ 1.09419045, -1.32940948,  0.03513726, ..., -0.55794421,\n",
       "        -0.15516752, -0.29919638],\n",
       "       [-0.8132287 ,  0.51080543,  0.15816803, ..., -0.55794421,\n",
       "        -0.15516752, -0.22654135],\n",
       "       ...,\n",
       "       [-0.2364085 ,  0.20004543, -0.25870723, ...,  1.79229391,\n",
       "        -0.15516752, -0.25075969],\n",
       "       [ 1.07112999, -1.2491768 ,  0.4186459 , ..., -0.55794421,\n",
       "        -0.15516752, -0.29919638],\n",
       "       [-0.44875876,  1.38156043,  1.30422149, ..., -0.55794421,\n",
       "        -0.15516752, -0.03884919]])"
      ]
     },
     "execution_count": 49,
     "metadata": {},
     "output_type": "execute_result"
    }
   ],
   "source": [
    "X_train_std"
   ]
  },
  {
   "cell_type": "code",
   "execution_count": 50,
   "id": "37b9e99e",
   "metadata": {},
   "outputs": [
    {
     "data": {
      "text/plain": [
       "1    134850\n",
       "0    100945\n",
       "Name: label, dtype: int64"
      ]
     },
     "execution_count": 50,
     "metadata": {},
     "output_type": "execute_result"
    }
   ],
   "source": [
    "data.label.value_counts()"
   ]
  },
  {
   "cell_type": "markdown",
   "id": "48d67a75",
   "metadata": {},
   "source": [
    "## Apply Algorithms to train the model"
   ]
  },
  {
   "cell_type": "code",
   "execution_count": 51,
   "id": "eacc8345",
   "metadata": {},
   "outputs": [],
   "source": [
    "from sklearn.tree import DecisionTreeClassifier\n",
    "from sklearn.svm import SVC\n",
    "rf=DecisionTreeClassifier(max_depth=20, min_samples_leaf=5,criterion='entropy')"
   ]
  },
  {
   "cell_type": "code",
   "execution_count": 52,
   "id": "676e2369",
   "metadata": {},
   "outputs": [
    {
     "data": {
      "text/html": [
       "<style>#sk-container-id-1 {color: black;background-color: white;}#sk-container-id-1 pre{padding: 0;}#sk-container-id-1 div.sk-toggleable {background-color: white;}#sk-container-id-1 label.sk-toggleable__label {cursor: pointer;display: block;width: 100%;margin-bottom: 0;padding: 0.3em;box-sizing: border-box;text-align: center;}#sk-container-id-1 label.sk-toggleable__label-arrow:before {content: \"▸\";float: left;margin-right: 0.25em;color: #696969;}#sk-container-id-1 label.sk-toggleable__label-arrow:hover:before {color: black;}#sk-container-id-1 div.sk-estimator:hover label.sk-toggleable__label-arrow:before {color: black;}#sk-container-id-1 div.sk-toggleable__content {max-height: 0;max-width: 0;overflow: hidden;text-align: left;background-color: #f0f8ff;}#sk-container-id-1 div.sk-toggleable__content pre {margin: 0.2em;color: black;border-radius: 0.25em;background-color: #f0f8ff;}#sk-container-id-1 input.sk-toggleable__control:checked~div.sk-toggleable__content {max-height: 200px;max-width: 100%;overflow: auto;}#sk-container-id-1 input.sk-toggleable__control:checked~label.sk-toggleable__label-arrow:before {content: \"▾\";}#sk-container-id-1 div.sk-estimator input.sk-toggleable__control:checked~label.sk-toggleable__label {background-color: #d4ebff;}#sk-container-id-1 div.sk-label input.sk-toggleable__control:checked~label.sk-toggleable__label {background-color: #d4ebff;}#sk-container-id-1 input.sk-hidden--visually {border: 0;clip: rect(1px 1px 1px 1px);clip: rect(1px, 1px, 1px, 1px);height: 1px;margin: -1px;overflow: hidden;padding: 0;position: absolute;width: 1px;}#sk-container-id-1 div.sk-estimator {font-family: monospace;background-color: #f0f8ff;border: 1px dotted black;border-radius: 0.25em;box-sizing: border-box;margin-bottom: 0.5em;}#sk-container-id-1 div.sk-estimator:hover {background-color: #d4ebff;}#sk-container-id-1 div.sk-parallel-item::after {content: \"\";width: 100%;border-bottom: 1px solid gray;flex-grow: 1;}#sk-container-id-1 div.sk-label:hover label.sk-toggleable__label {background-color: #d4ebff;}#sk-container-id-1 div.sk-serial::before {content: \"\";position: absolute;border-left: 1px solid gray;box-sizing: border-box;top: 0;bottom: 0;left: 50%;z-index: 0;}#sk-container-id-1 div.sk-serial {display: flex;flex-direction: column;align-items: center;background-color: white;padding-right: 0.2em;padding-left: 0.2em;position: relative;}#sk-container-id-1 div.sk-item {position: relative;z-index: 1;}#sk-container-id-1 div.sk-parallel {display: flex;align-items: stretch;justify-content: center;background-color: white;position: relative;}#sk-container-id-1 div.sk-item::before, #sk-container-id-1 div.sk-parallel-item::before {content: \"\";position: absolute;border-left: 1px solid gray;box-sizing: border-box;top: 0;bottom: 0;left: 50%;z-index: -1;}#sk-container-id-1 div.sk-parallel-item {display: flex;flex-direction: column;z-index: 1;position: relative;background-color: white;}#sk-container-id-1 div.sk-parallel-item:first-child::after {align-self: flex-end;width: 50%;}#sk-container-id-1 div.sk-parallel-item:last-child::after {align-self: flex-start;width: 50%;}#sk-container-id-1 div.sk-parallel-item:only-child::after {width: 0;}#sk-container-id-1 div.sk-dashed-wrapped {border: 1px dashed gray;margin: 0 0.4em 0.5em 0.4em;box-sizing: border-box;padding-bottom: 0.4em;background-color: white;}#sk-container-id-1 div.sk-label label {font-family: monospace;font-weight: bold;display: inline-block;line-height: 1.2em;}#sk-container-id-1 div.sk-label-container {text-align: center;}#sk-container-id-1 div.sk-container {/* jupyter's `normalize.less` sets `[hidden] { display: none; }` but bootstrap.min.css set `[hidden] { display: none !important; }` so we also need the `!important` here to be able to override the default hidden behavior on the sphinx rendered scikit-learn.org. See: https://github.com/scikit-learn/scikit-learn/issues/21755 */display: inline-block !important;position: relative;}#sk-container-id-1 div.sk-text-repr-fallback {display: none;}</style><div id=\"sk-container-id-1\" class=\"sk-top-container\"><div class=\"sk-text-repr-fallback\"><pre>DecisionTreeClassifier(criterion=&#x27;entropy&#x27;, max_depth=20, min_samples_leaf=5)</pre><b>In a Jupyter environment, please rerun this cell to show the HTML representation or trust the notebook. <br />On GitHub, the HTML representation is unable to render, please try loading this page with nbviewer.org.</b></div><div class=\"sk-container\" hidden><div class=\"sk-item\"><div class=\"sk-estimator sk-toggleable\"><input class=\"sk-toggleable__control sk-hidden--visually\" id=\"sk-estimator-id-1\" type=\"checkbox\" checked><label for=\"sk-estimator-id-1\" class=\"sk-toggleable__label sk-toggleable__label-arrow\">DecisionTreeClassifier</label><div class=\"sk-toggleable__content\"><pre>DecisionTreeClassifier(criterion=&#x27;entropy&#x27;, max_depth=20, min_samples_leaf=5)</pre></div></div></div></div></div>"
      ],
      "text/plain": [
       "DecisionTreeClassifier(criterion='entropy', max_depth=20, min_samples_leaf=5)"
      ]
     },
     "execution_count": 52,
     "metadata": {},
     "output_type": "execute_result"
    }
   ],
   "source": [
    "rf.fit(X_train_std,Y_train)"
   ]
  },
  {
   "cell_type": "code",
   "execution_count": 55,
   "id": "cfe4c512",
   "metadata": {},
   "outputs": [
    {
     "data": {
      "text/plain": [
       "array([1, 0, 1, ..., 1, 1, 0], dtype=int64)"
      ]
     },
     "execution_count": 55,
     "metadata": {},
     "output_type": "execute_result"
    }
   ],
   "source": [
    "Y_pred=rf.predict(X_test_std)\n",
    "Y_pred"
   ]
  },
  {
   "cell_type": "markdown",
   "id": "cd459520",
   "metadata": {},
   "source": [
    "## Using various metrics to verify performance of model"
   ]
  },
  {
   "cell_type": "code",
   "execution_count": 58,
   "id": "662fd7c7",
   "metadata": {},
   "outputs": [
    {
     "data": {
      "text/plain": [
       "1.0"
      ]
     },
     "execution_count": 58,
     "metadata": {},
     "output_type": "execute_result"
    }
   ],
   "source": [
    "from sklearn.metrics import accuracy_score\n",
    "ac_rf=accuracy_score(Y_test,Y_pred)\n",
    "ac_rf"
   ]
  },
  {
   "cell_type": "code",
   "execution_count": 59,
   "id": "060ee1da",
   "metadata": {},
   "outputs": [
    {
     "name": "stdout",
     "output_type": "stream",
     "text": [
      "1.0\n",
      "              precision    recall  f1-score   support\n",
      "\n",
      "           0       1.00      1.00      1.00     20189\n",
      "           1       1.00      1.00      1.00     26970\n",
      "\n",
      "    accuracy                           1.00     47159\n",
      "   macro avg       1.00      1.00      1.00     47159\n",
      "weighted avg       1.00      1.00      1.00     47159\n",
      "\n"
     ]
    }
   ],
   "source": [
    "from sklearn.metrics import classification_report\n",
    "print(accuracy_score(Y_test,Y_pred))\n",
    "print(classification_report(Y_test,Y_pred))"
   ]
  },
  {
   "cell_type": "code",
   "execution_count": 60,
   "id": "13299833",
   "metadata": {},
   "outputs": [
    {
     "data": {
      "text/plain": [
       "<Axes: >"
      ]
     },
     "execution_count": 60,
     "metadata": {},
     "output_type": "execute_result"
    },
    {
     "data": {
      "image/png": "[encoded data removed]",
      "text/plain": [
       "<Figure size 640x480 with 2 Axes>"
      ]
     },
     "metadata": {},
     "output_type": "display_data"
    }
   ],
   "source": [
    "from sklearn.metrics import confusion_matrix\n",
    "cm=confusion_matrix(Y_test,Y_pred)\n",
    "sns.heatmap(cm,annot=True)"
   ]
  },
  {
   "cell_type": "code",
   "execution_count": null,
   "id": "2a4ec07f",
   "metadata": {},
   "outputs": [],
   "source": []
  }
 ],
 "metadata": {
  "kernelspec": {
   "display_name": "Python 3 (ipykernel)",
   "language": "python",
   "name": "python3"
  },
  "language_info": {
   "codemirror_mode": {
    "name": "ipython",
    "version": 3
   },
   "file_extension": ".py",
   "mimetype": "text/x-python",
   "name": "python",
   "nbconvert_exporter": "python",
   "pygments_lexer": "ipython3",
   "version": "3.11.4"
  }
 },
 "nbformat": 4,
 "nbformat_minor": 5
}
